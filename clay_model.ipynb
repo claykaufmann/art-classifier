{
 "cells": [
  {
   "cell_type": "code",
   "execution_count": 1,
   "metadata": {},
   "outputs": [],
   "source": [
    "# imports\n",
    "from tensorflow.keras.applications.inception_v3 import InceptionV3, preprocess_input\n",
    "from tensorflow.keras import Input\n",
    "from tensorflow.keras.models import Model\n",
    "from tensorflow.keras.layers import Dense\n",
    "from tensorflow.keras.layers import Flatten\n",
    "import tensorflow as tf\n",
    "import tensorflow.keras as K\n",
    "import numpy as np\n",
    "import pandas as pd\n",
    "import os\n",
    "import glob\n",
    "from tensorflow.keras.callbacks import ModelCheckpoint, EarlyStopping\n",
    "from sklearn.metrics import accuracy_score, classification_report, confusion_matrix\n",
    "import seaborn as sns\n",
    "from keras.preprocessing.image import ImageDataGenerator\n"
   ]
  },
  {
   "cell_type": "code",
   "execution_count": 2,
   "metadata": {},
   "outputs": [],
   "source": [
    "# get directories\n",
    "main_direc = os.getcwd()\n",
    "images_dir = os.path.join(main_direc, 'data/images/images')\n",
    "\n",
    "# csv location\n",
    "artist_csv_loc = os.path.join(main_direc, 'data/artists.csv')"
   ]
  },
  {
   "cell_type": "markdown",
   "metadata": {},
   "source": [
    "## Loading Data\n",
    "The below section loads in the data, making necessary preprocess changes.\n",
    "Generators are used to augment the data.\n",
    "\n",
    "### Hyperparameter Section for data preprocessing\n",
    "The following code block allows you to set different hyperparams for loading in\n",
    "the images."
   ]
  },
  {
   "cell_type": "code",
   "execution_count": 4,
   "metadata": {},
   "outputs": [],
   "source": [
    "\"\"\"\n",
    "Set hyperparams for the number of classes and image generators\n",
    "\"\"\"\n",
    "\n",
    "IMG_WIDTH = 299\n",
    "IMG_HEIGHT = 299\n",
    "BATCH_SIZE = 64\n",
    "NUM_ARTISTS = 10 # this is 11 to get to 10 classes, can be changed..."
   ]
  },
  {
   "cell_type": "markdown",
   "metadata": {},
   "source": [
    "### DataFrame management\n",
    "The following code block loads the artists csv into pandas dataframe, sorts by\n",
    "number of paintings, and makes a dataframe with the top 10 artists by painting\n",
    "count, to give us the most amount of data possible."
   ]
  },
  {
   "cell_type": "code",
   "execution_count": 5,
   "metadata": {},
   "outputs": [
    {
     "name": "stdout",
     "output_type": "stream",
     "text": [
      "    id                   name        years                         genre  \\\n",
      "8    8       Vincent van Gogh  1853 – 1890            Post-Impressionism   \n",
      "30  30            Edgar Degas  1834 - 1917                 Impressionism   \n",
      "13  13          Pablo Picasso  1881 - 1973                        Cubism   \n",
      "15  15  Pierre-Auguste Renoir  1841 - 1919                 Impressionism   \n",
      "19  19         Albrecht Dürer  1471 - 1528          Northern Renaissance   \n",
      "46  46           Paul Gauguin  1848 – 1903  Symbolism,Post-Impressionism   \n",
      "16  16         Francisco Goya  1746 - 1828                   Romanticism   \n",
      "31  31              Rembrandt  1606 - 1669                       Baroque   \n",
      "20  20          Alfred Sisley  1839 - 1899                 Impressionism   \n",
      "32  32                 Titian  1488 - 1576    High Renaissance,Mannerism   \n",
      "22  22           Marc Chagall  1887 - 1985                   Primitivism   \n",
      "\n",
      "                 nationality  \\\n",
      "8                      Dutch   \n",
      "30                    French   \n",
      "13                   Spanish   \n",
      "15                    French   \n",
      "19                    German   \n",
      "46                    French   \n",
      "16                   Spanish   \n",
      "31                     Dutch   \n",
      "20            French,British   \n",
      "32                   Italian   \n",
      "22  French,Jewish,Belarusian   \n",
      "\n",
      "                                                  bio  \\\n",
      "8   Vincent Willem van Gogh (Dutch: [ˈvɪnsɛnt ˈʋɪl...   \n",
      "30  Edgar Degas (US:  or UK: ; born Hilaire-Germai...   \n",
      "13  Pablo Ruiz Picasso (; Spanish: [ˈpaβlo piˈkaso...   \n",
      "15  Pierre-Auguste Renoir, commonly known as Augus...   \n",
      "19  Albrecht Dürer (; German: [ˈʔalbʁɛçt ˈdyːʁɐ]; ...   \n",
      "46  Eugène Henri Paul Gauguin (UK: , US: ; French:...   \n",
      "16  Francisco José de Goya y Lucientes (; Spanish:...   \n",
      "31  Rembrandt Harmenszoon van Rijn (; Dutch: [ˈrɛm...   \n",
      "20  Alfred Sisley (; French: [sislɛ]; 30 October 1...   \n",
      "32  Tiziano Vecelli or Tiziano Vecellio (pronounce...   \n",
      "22  Marc Zakharovich Chagall ( shə-GAHL; born Mois...   \n",
      "\n",
      "                                            wikipedia  paintings  \n",
      "8       http://en.wikipedia.org/wiki/Vincent_van_Gogh        877  \n",
      "30           http://en.wikipedia.org/wiki/Edgar_Degas        702  \n",
      "13         http://en.wikipedia.org/wiki/Pablo_Picasso        439  \n",
      "15  http://en.wikipedia.org/wiki/Pierre-Auguste_Re...        336  \n",
      "19        http://en.wikipedia.org/wiki/Albrecht_Dürer        328  \n",
      "46          http://en.wikipedia.org/wiki/Paul_Gauguin        311  \n",
      "16        http://en.wikipedia.org/wiki/Francisco_Goya        291  \n",
      "31             http://en.wikipedia.org/wiki/Rembrandt        262  \n",
      "20         http://en.wikipedia.org/wiki/Alfred_Sisley        259  \n",
      "32                http://en.wikipedia.org/wiki/Titian        255  \n",
      "22          http://en.wikipedia.org/wiki/Marc_Chagall        239  \n",
      "                                                   Path          Name\n",
      "0     data/images/images/Edgar_Degas/Edgar_Degas_455...   Edgar_Degas\n",
      "1     data/images/images/Edgar_Degas/Edgar_Degas_333...   Edgar_Degas\n",
      "2     data/images/images/Edgar_Degas/Edgar_Degas_47.jpg   Edgar_Degas\n",
      "3     data/images/images/Edgar_Degas/Edgar_Degas_327...   Edgar_Degas\n",
      "4     data/images/images/Edgar_Degas/Edgar_Degas_53.jpg   Edgar_Degas\n",
      "...                                                 ...           ...\n",
      "3417  data/images/images/Marc_Chagall/Marc_Chagall_5...  Marc_Chagall\n",
      "3418  data/images/images/Marc_Chagall/Marc_Chagall_4...  Marc_Chagall\n",
      "3419  data/images/images/Marc_Chagall/Marc_Chagall_6...  Marc_Chagall\n",
      "3420  data/images/images/Marc_Chagall/Marc_Chagall_9...  Marc_Chagall\n",
      "3421  data/images/images/Marc_Chagall/Marc_Chagall_8...  Marc_Chagall\n",
      "\n",
      "[3422 rows x 2 columns]\n"
     ]
    }
   ],
   "source": [
    "# Collecting Needed Images\n",
    "artists = pd.read_csv(artist_csv_loc)\n",
    "\n",
    "# Creating a dataframe with the top 10 artists by number of paintings\n",
    "artists_sort = artists.sort_values(by=['paintings'], ascending=False)\n",
    "\n",
    "# add one to reach the first 10 classes\n",
    "artists_top = artists_sort.head(NUM_ARTISTS + 1)\n",
    "print(artists_top)\n",
    "\n",
    "# Images\n",
    "artists_dir = os.listdir(images_dir) # Files are named after each artists\n",
    "\n",
    "# Images DataFrame\n",
    "artists_top_name = artists_top['name'].str.replace(' ', '_').values\n",
    "\n",
    "images_df = pd.DataFrame()\n",
    "for name in artists_top_name:\n",
    "    images_df = pd.concat([images_df, pd.DataFrame(data={'Path': glob.glob('data/images/images/' + name + '/*'), 'Name': name})], ignore_index=True)\n",
    "\n",
    "print(images_df)\n",
    "\n",
    "train_df = images_df.sample(frac=0.8, random_state=200)\n",
    "test_df = images_df.drop(train_df.index)\n",
    "\n",
    "if K.backend.image_data_format() == 'channels_first':\n",
    "    input_shape = (3, IMG_HEIGHT, IMG_WIDTH)\n",
    "else:\n",
    "    input_shape = (IMG_HEIGHT, IMG_WIDTH, 3)"
   ]
  },
  {
   "cell_type": "markdown",
   "metadata": {},
   "source": [
    "### Building generators\n",
    "The next code block builds generators for augmenting the data."
   ]
  },
  {
   "cell_type": "code",
   "execution_count": 6,
   "metadata": {},
   "outputs": [
    {
     "name": "stdout",
     "output_type": "stream",
     "text": [
      "Found 2328 validated image filenames belonging to 10 classes.\n",
      "Found 410 validated image filenames belonging to 10 classes.\n",
      "Found 684 validated image filenames.\n"
     ]
    }
   ],
   "source": [
    "\"\"\"\n",
    "Build generators\n",
    "\"\"\"\n",
    "\n",
    "train_generator = ImageDataGenerator(rescale=1.0 / 255,\n",
    "                                    rotation_range=20,\n",
    "                                    zoom_range=0.05,\n",
    "                                    width_shift_range=0.05,\n",
    "                                    height_shift_range=0.05,\n",
    "                                    shear_range=0.05,\n",
    "                                    horizontal_flip=True,\n",
    "                                    fill_mode=\"nearest\",\n",
    "                                    validation_split=0.15,\n",
    "                                    preprocessing_function=preprocess_input\n",
    "                                    )\n",
    "\n",
    "test_generator = ImageDataGenerator(rescale=1.0 / 255, preprocessing_function=preprocess_input)\n",
    "\n",
    "train_gen = train_generator.flow_from_dataframe(\n",
    "    train_df,\n",
    "    shuffle=True,\n",
    "    x_col='Path',\n",
    "    y_col='Name',\n",
    "    class_mode='categorical',\n",
    "    subset=\"training\",\n",
    "    batch_size=BATCH_SIZE,\n",
    "    target_size=(IMG_HEIGHT, IMG_WIDTH),\n",
    "    seed=42\n",
    ")\n",
    "\n",
    "valid_gen = train_generator.flow_from_dataframe(\n",
    "    train_df,\n",
    "    subset=\"validation\",\n",
    "    shuffle=True,\n",
    "    x_col='Path',\n",
    "    y_col='Name',\n",
    "    class_mode='categorical',\n",
    "    batch_size=BATCH_SIZE,\n",
    "    target_size=(IMG_HEIGHT, IMG_WIDTH),\n",
    "    seed=42\n",
    ")\n",
    "\n",
    "test_gen = test_generator.flow_from_dataframe(\n",
    "    test_df,\n",
    "    x_col='Path',\n",
    "    batch_size=1,\n",
    "    shuffle=False,\n",
    "    class_mode=None,\n",
    "    target_size=(IMG_HEIGHT, IMG_WIDTH)\n",
    ")\n",
    "\n",
    "# Set the amount of steps for training, validation, and testing data\n",
    "# based on the batch size\n",
    "steps_train = train_gen.n//train_gen.batch_size\n",
    "steps_valid = valid_gen.n//valid_gen.batch_size\n",
    "steps_test = test_gen.n//test_gen.batch_size"
   ]
  },
  {
   "cell_type": "markdown",
   "metadata": {},
   "source": []
  },
  {
   "cell_type": "markdown",
   "metadata": {},
   "source": [
    "## BASELINE MODEL\n",
    "The following model is a very simple convolutional neural network. It is not\n",
    "very accurate."
   ]
  },
  {
   "cell_type": "code",
   "execution_count": 12,
   "metadata": {},
   "outputs": [],
   "source": [
    "# number of epochs for the baseline model\n",
    "n_epochs = 3\n",
    "\n",
    "sequential_model = tf.keras.Sequential([\n",
    "  tf.keras.layers.Rescaling(1./255),\n",
    "  tf.keras.layers.Conv2D(32, 3, activation='relu'),\n",
    "  tf.keras.layers.MaxPooling2D(),\n",
    "  tf.keras.layers.Conv2D(32, 3, activation='relu'),\n",
    "  tf.keras.layers.MaxPooling2D(),\n",
    "  tf.keras.layers.Conv2D(32, 3, activation='relu'),\n",
    "  tf.keras.layers.MaxPooling2D(),\n",
    "  tf.keras.layers.Flatten(),\n",
    "  tf.keras.layers.Dense(128, activation='relu'),\n",
    "  tf.keras.layers.Dense(NUM_ARTISTS)\n",
    "])\n",
    "\n",
    "# compile model\n",
    "sequential_model.compile(\n",
    "  optimizer='adam',\n",
    "  loss=tf.losses.CategoricalCrossentropy(from_logits=True),\n",
    "  metrics=['accuracy']\n",
    ")\n"
   ]
  },
  {
   "cell_type": "code",
   "execution_count": 16,
   "metadata": {},
   "outputs": [
    {
     "name": "stderr",
     "output_type": "stream",
     "text": [
      "/usr/local/anaconda3/lib/python3.8/site-packages/keras/engine/training.py:1972: UserWarning: `Model.fit_generator` is deprecated and will be removed in a future version. Please use `Model.fit`, which supports generators.\n",
      "  warnings.warn('`Model.fit_generator` is deprecated and '\n"
     ]
    },
    {
     "name": "stdout",
     "output_type": "stream",
     "text": [
      "Epoch 1/10\n",
      "36/36 [==============================] - 118s 3s/step - loss: 2.2462 - accuracy: 0.2049 - val_loss: 2.2270 - val_accuracy: 0.2370\n",
      "\n",
      "Epoch 00001: val_loss improved from inf to 2.22699, saving model to baseline_model.hdf5\n",
      "Epoch 2/10\n",
      "36/36 [==============================] - 127s 4s/step - loss: 2.2417 - accuracy: 0.2080 - val_loss: 2.2308 - val_accuracy: 0.2344\n",
      "\n",
      "Epoch 00002: val_loss did not improve from 2.22699\n",
      "Epoch 3/10\n",
      "36/36 [==============================] - 137s 4s/step - loss: 2.2440 - accuracy: 0.2067 - val_loss: 2.2297 - val_accuracy: 0.2370\n",
      "\n",
      "Epoch 00003: val_loss did not improve from 2.22699\n",
      "Epoch 4/10\n",
      "36/36 [==============================] - 133s 4s/step - loss: 2.2424 - accuracy: 0.2076 - val_loss: 2.2307 - val_accuracy: 0.2448\n",
      "\n",
      "Epoch 00004: val_loss did not improve from 2.22699\n",
      "Epoch 5/10\n",
      "36/36 [==============================] - 136s 4s/step - loss: 2.2413 - accuracy: 0.2072 - val_loss: 2.2439 - val_accuracy: 0.2318\n",
      "\n",
      "Epoch 00005: val_loss did not improve from 2.22699\n",
      "Epoch 6/10\n",
      "36/36 [==============================] - 136s 4s/step - loss: 2.2457 - accuracy: 0.2054 - val_loss: 2.2453 - val_accuracy: 0.2344\n",
      "\n",
      "Epoch 00006: val_loss did not improve from 2.22699\n",
      "Epoch 7/10\n",
      "36/36 [==============================] - 137s 4s/step - loss: 2.2457 - accuracy: 0.2094 - val_loss: 2.2281 - val_accuracy: 0.2422\n",
      "\n",
      "Epoch 00007: val_loss did not improve from 2.22699\n",
      "Epoch 8/10\n",
      "36/36 [==============================] - 143s 4s/step - loss: 2.2425 - accuracy: 0.2067 - val_loss: 2.2214 - val_accuracy: 0.2474\n",
      "\n",
      "Epoch 00008: val_loss improved from 2.22699 to 2.22144, saving model to baseline_model.hdf5\n",
      "Epoch 9/10\n",
      "36/36 [==============================] - 144s 4s/step - loss: 2.2432 - accuracy: 0.2058 - val_loss: 2.2247 - val_accuracy: 0.2396\n",
      "\n",
      "Epoch 00009: val_loss did not improve from 2.22144\n",
      "Epoch 10/10\n",
      "36/36 [==============================] - 146s 4s/step - loss: 2.2445 - accuracy: 0.2058 - val_loss: 2.2301 - val_accuracy: 0.2344\n",
      "\n",
      "Epoch 00010: val_loss did not improve from 2.22144\n"
     ]
    },
    {
     "data": {
      "text/plain": [
       "<keras.callbacks.History at 0x7fe030b4cb50>"
      ]
     },
     "execution_count": 16,
     "metadata": {},
     "output_type": "execute_result"
    }
   ],
   "source": [
    "# fit model\n",
    "# FITTING THE MODEL\n",
    "# create a checkpoint for the model\n",
    "checkpt = ModelCheckpoint(filepath='baseline_model.hdf5', save_best_only=True, verbose=1)\n",
    "\n",
    "early_stop = EarlyStopping(monitor='val_loss', patience=10, restore_best_weights=True, mode='min')\n",
    "\n",
    "# Fit the model\n",
    "sequential_model.fit_generator(\n",
    "    generator = train_gen,\n",
    "    steps_per_epoch=steps_train,\n",
    "    validation_data = valid_gen,\n",
    "    validation_steps = steps_valid,\n",
    "    verbose=1,\n",
    "    epochs=10,\n",
    "    callbacks=[checkpt, early_stop]\n",
    ")"
   ]
  },
  {
   "cell_type": "markdown",
   "metadata": {},
   "source": [
    "### Metrics for baseline model\n",
    "The following code blocks create plots for the baseline model."
   ]
  },
  {
   "cell_type": "code",
   "execution_count": 17,
   "metadata": {},
   "outputs": [
    {
     "name": "stdout",
     "output_type": "stream",
     "text": [
      "  5/684 [..............................] - ETA: 9s "
     ]
    },
    {
     "name": "stderr",
     "output_type": "stream",
     "text": [
      "/usr/local/anaconda3/lib/python3.8/site-packages/keras/engine/training.py:2035: UserWarning: `Model.predict_generator` is deprecated and will be removed in a future version. Please use `Model.predict`, which supports generators.\n",
      "  warnings.warn('`Model.predict_generator` is deprecated and '\n"
     ]
    },
    {
     "name": "stdout",
     "output_type": "stream",
     "text": [
      "684/684 [==============================] - 14s 20ms/step\n"
     ]
    }
   ],
   "source": [
    "# Load model weights\n",
    "sequential_model.load_weights('baseline_model.hdf5')\n",
    "\n",
    "# make predictions using the test set\n",
    "predict = sequential_model.predict_generator(test_gen, steps=steps_test, verbose=1)\n",
    "\n",
    "# collect the actual index of the predicted class\n",
    "predicted_class = np.argmax(predict, axis=1)"
   ]
  },
  {
   "cell_type": "code",
   "execution_count": 18,
   "metadata": {},
   "outputs": [
    {
     "name": "stderr",
     "output_type": "stream",
     "text": [
      "/usr/local/anaconda3/lib/python3.8/site-packages/sklearn/metrics/_classification.py:1221: UndefinedMetricWarning: Precision and F-score are ill-defined and being set to 0.0 in labels with no predicted samples. Use `zero_division` parameter to control this behavior.\n",
      "  _warn_prf(average, modifier, msg_start, len(result))\n"
     ]
    },
    {
     "name": "stdout",
     "output_type": "stream",
     "text": [
      "              precision    recall  f1-score   support\n",
      "\n",
      "           0       0.00      0.00      0.00        64\n",
      "           1       0.00      0.00      0.00        55\n",
      "           2       0.18      1.00      0.30       121\n",
      "           3       0.00      0.00      0.00        65\n",
      "           4       0.00      0.00      0.00        47\n",
      "           5       0.00      0.00      0.00        97\n",
      "           6       0.00      0.00      0.00        63\n",
      "           7       0.00      0.00      0.00        76\n",
      "           8       0.00      0.00      0.00        48\n",
      "           9       0.00      0.00      0.00        48\n",
      "\n",
      "    accuracy                           0.18       684\n",
      "   macro avg       0.02      0.10      0.03       684\n",
      "weighted avg       0.03      0.18      0.05       684\n",
      "\n"
     ]
    },
    {
     "data": {
      "image/png": "[encoded data removed]",
      "text/plain": [
       "<Figure size 432x288 with 2 Axes>"
      ]
     },
     "metadata": {
      "needs_background": "light"
     },
     "output_type": "display_data"
    }
   ],
   "source": [
    "\"\"\"\n",
    "Produce result metrics\n",
    "\"\"\"\n",
    "\n",
    "# collect the actual classes of the predictions\n",
    "r = dict(train_gen.class_indices.items())\n",
    "y_true = test_df['Name']\n",
    "y_true = [r[k] for k in y_true]\n",
    "\n",
    "# create confusion matrix\n",
    "cm = confusion_matrix(y_true, predicted_class)\n",
    "sns.heatmap(cm, annot=True)\n",
    "\n",
    "# print classification report\n",
    "print(classification_report(y_true, predicted_class))"
   ]
  },
  {
   "cell_type": "markdown",
   "metadata": {},
   "source": [
    "### Interpretations\n",
    "It is interesting to see that the baseline model purely predicted artist 3. I am\n",
    "not surprised to see such a low f1-score for this model. Overall, this model is\n",
    "really not very good."
   ]
  },
  {
   "cell_type": "markdown",
   "metadata": {},
   "source": [
    "## Clay's Model\n",
    "The following model was designed by Clay Kaufmann. It uses Inception V3 as a\n",
    "base line, and makes modifications from there."
   ]
  },
  {
   "cell_type": "markdown",
   "metadata": {},
   "source": [
    "### Hyperparameter Block\n",
    "Set different hyperparameters for the model with the following block."
   ]
  },
  {
   "cell_type": "code",
   "execution_count": 7,
   "metadata": {},
   "outputs": [],
   "source": [
    "\"\"\"\n",
    "Hyperparameters here:\n",
    "\"\"\"\n",
    "\n",
    "N_EPOCHS = 10\n",
    "LEARNING_RATE = 0.001 # 0.001 is the default for Adam set by TensorFlow\n",
    "OPTIMIZER = tf.optimizers.Adam(learning_rate=LEARNING_RATE)\n",
    "LOSS_FUNCTION = tf.losses.CategoricalCrossentropy(from_logits=False)"
   ]
  },
  {
   "cell_type": "code",
   "execution_count": 8,
   "metadata": {},
   "outputs": [
    {
     "name": "stderr",
     "output_type": "stream",
     "text": [
      "2021-12-14 10:20:30.830604: I tensorflow/core/platform/cpu_feature_guard.cc:142] This TensorFlow binary is optimized with oneAPI Deep Neural Network Library (oneDNN) to use the following CPU instructions in performance-critical operations:  AVX2 FMA\n",
      "To enable them in other operations, rebuild TensorFlow with the appropriate compiler flags.\n"
     ]
    },
    {
     "name": "stdout",
     "output_type": "stream",
     "text": [
      "Model: \"sequential\"\n",
      "_________________________________________________________________\n",
      "Layer (type)                 Output Shape              Param #   \n",
      "=================================================================\n",
      "inception_v3 (Functional)    (None, 2048)              21802784  \n",
      "_________________________________________________________________\n",
      "flatten (Flatten)            (None, 2048)              0         \n",
      "_________________________________________________________________\n",
      "batch_normalization_94 (Batc (None, 2048)              8192      \n",
      "_________________________________________________________________\n",
      "dense (Dense)                (None, 256)               524544    \n",
      "_________________________________________________________________\n",
      "dropout (Dropout)            (None, 256)               0         \n",
      "_________________________________________________________________\n",
      "dense_1 (Dense)              (None, 10)                2570      \n",
      "=================================================================\n",
      "Total params: 22,338,090\n",
      "Trainable params: 531,210\n",
      "Non-trainable params: 21,806,880\n",
      "_________________________________________________________________\n"
     ]
    }
   ],
   "source": [
    "\"\"\"\n",
    "Build the model\n",
    "\"\"\"\n",
    "\n",
    "# set the input for VGG\n",
    "inp = Input(shape=(IMG_HEIGHT,IMG_WIDTH,3))\n",
    "\n",
    "# load model\n",
    "base_model = InceptionV3(include_top=False, input_tensor=inp, pooling='max', weights='imagenet')\n",
    "\n",
    "# set base model to not be trainable\n",
    "base_model.trainable = False\n",
    "\n",
    "# create sequential model\n",
    "final_model = tf.keras.Sequential()\n",
    "\n",
    "# add the base model in\n",
    "final_model.add(base_model)\n",
    "\n",
    "final_model.add(K.layers.Flatten())\n",
    "final_model.add(K.layers.BatchNormalization())\n",
    "final_model.add(Dense(256, activation='relu'))\n",
    "final_model.add(K.layers.Dropout(0.6))\n",
    "\n",
    "# this needed to be the number of artists - 1\n",
    "final_model.add(Dense(NUM_ARTISTS, activation='softmax'))\n",
    "\n",
    "final_model.summary()\n",
    "\n",
    "# compile model\n",
    "final_model.compile(\n",
    "  optimizer=OPTIMIZER,\n",
    "  loss=LOSS_FUNCTION,\n",
    "  metrics=['accuracy']\n",
    ")"
   ]
  },
  {
   "cell_type": "code",
   "execution_count": 8,
   "metadata": {},
   "outputs": [
    {
     "ename": "NameError",
     "evalue": "name 'final_model' is not defined",
     "output_type": "error",
     "traceback": [
      "\u001b[0;31m---------------------------------------------------------------------------\u001b[0m",
      "\u001b[0;31mNameError\u001b[0m                                 Traceback (most recent call last)",
      "\u001b[0;32m/var/folders/pk/gnzd3pkj597gwwq232x2np9h0000gn/T/ipykernel_73586/3127109486.py\u001b[0m in \u001b[0;36m<module>\u001b[0;34m\u001b[0m\n\u001b[1;32m      5\u001b[0m \u001b[0;34m\u001b[0m\u001b[0m\n\u001b[1;32m      6\u001b[0m \u001b[0;31m# Fit the model\u001b[0m\u001b[0;34m\u001b[0m\u001b[0;34m\u001b[0m\u001b[0;34m\u001b[0m\u001b[0m\n\u001b[0;32m----> 7\u001b[0;31m final_model.fit_generator(\n\u001b[0m\u001b[1;32m      8\u001b[0m     \u001b[0mgenerator\u001b[0m \u001b[0;34m=\u001b[0m \u001b[0mtrain_gen\u001b[0m\u001b[0;34m,\u001b[0m\u001b[0;34m\u001b[0m\u001b[0;34m\u001b[0m\u001b[0m\n\u001b[1;32m      9\u001b[0m     \u001b[0msteps_per_epoch\u001b[0m\u001b[0;34m=\u001b[0m\u001b[0msteps_train\u001b[0m\u001b[0;34m,\u001b[0m\u001b[0;34m\u001b[0m\u001b[0;34m\u001b[0m\u001b[0m\n",
      "\u001b[0;31mNameError\u001b[0m: name 'final_model' is not defined"
     ]
    }
   ],
   "source": [
    "\"\"\"\n",
    "Train the model\n",
    "\"\"\"\n",
    "\n",
    "# create a checkpoint for the model\n",
    "checkpt = ModelCheckpoint(filepath='clay_trained_model.hdf5', save_best_only=True, verbose=1)\n",
    "\n",
    "early_stop = EarlyStopping(monitor='val_loss', patience=10, restore_best_weights=True, mode='min')\n",
    "\n",
    "# Fit the model\n",
    "final_model.fit_generator(\n",
    "    generator = train_gen,\n",
    "    steps_per_epoch=steps_train,\n",
    "    validation_data = valid_gen,\n",
    "    validation_steps = steps_valid,\n",
    "    verbose=1,\n",
    "    epochs=N_EPOCHS,\n",
    "    callbacks=[checkpt, early_stop]\n",
    ")"
   ]
  },
  {
   "cell_type": "markdown",
   "metadata": {},
   "source": [
    "### Metrics Section\n",
    "In the following codeblocks, metrics are used and plots are created to show how\n",
    "the model performed.  \n",
    "A confusion matrix is creating, using Seaborn's heatmap feature. A\n",
    "classification report from sklearn metrics is also run."
   ]
  },
  {
   "cell_type": "code",
   "execution_count": 10,
   "metadata": {},
   "outputs": [
    {
     "name": "stderr",
     "output_type": "stream",
     "text": [
      "/usr/local/anaconda3/lib/python3.8/site-packages/keras/engine/training.py:2035: UserWarning: `Model.predict_generator` is deprecated and will be removed in a future version. Please use `Model.predict`, which supports generators.\n",
      "  warnings.warn('`Model.predict_generator` is deprecated and '\n",
      "2021-12-14 10:20:55.179324: I tensorflow/compiler/mlir/mlir_graph_optimization_pass.cc:185] None of the MLIR Optimization Passes are enabled (registered 2)\n"
     ]
    },
    {
     "name": "stdout",
     "output_type": "stream",
     "text": [
      "684/684 [==============================] - 52s 74ms/step\n"
     ]
    }
   ],
   "source": [
    "\"\"\"\n",
    "Make predictions\n",
    "\"\"\"\n",
    "\n",
    "# Load model weights\n",
    "final_model.load_weights('clay_trained_model.hdf5')\n",
    "\n",
    "# make predictions using the test set\n",
    "predict = final_model.predict_generator(test_gen, steps=steps_test, verbose=1)\n",
    "\n",
    "# collect the actual index of the predicted class\n",
    "predicted_class = np.argmax(predict, axis=1)"
   ]
  },
  {
   "cell_type": "code",
   "execution_count": 11,
   "metadata": {},
   "outputs": [
    {
     "name": "stdout",
     "output_type": "stream",
     "text": [
      "              precision    recall  f1-score   support\n",
      "\n",
      "           0       0.93      0.88      0.90        64\n",
      "           1       0.85      0.85      0.85        55\n",
      "           2       0.71      0.86      0.78       121\n",
      "           3       0.88      0.69      0.78        65\n",
      "           4       0.81      0.72      0.76        47\n",
      "           5       0.75      0.91      0.82        97\n",
      "           6       0.74      0.63      0.68        63\n",
      "           7       0.76      0.79      0.77        76\n",
      "           8       0.87      0.81      0.84        48\n",
      "           9       0.91      0.62      0.74        48\n",
      "\n",
      "    accuracy                           0.79       684\n",
      "   macro avg       0.82      0.78      0.79       684\n",
      "weighted avg       0.80      0.79      0.79       684\n",
      "\n"
     ]
    },
    {
     "data": {
      "image/png": "[encoded data removed]",
      "text/plain": [
       "<Figure size 432x288 with 2 Axes>"
      ]
     },
     "metadata": {
      "needs_background": "light"
     },
     "output_type": "display_data"
    }
   ],
   "source": [
    "\"\"\"\n",
    "Produce result metrics\n",
    "\"\"\"\n",
    "\n",
    "# collect the actual classes of the predictions\n",
    "r = dict(train_gen.class_indices.items())\n",
    "y_true = test_df['Name']\n",
    "y_true = [r[k] for k in y_true]\n",
    "\n",
    "# create confusion matrix\n",
    "cm = confusion_matrix(y_true, predicted_class)\n",
    "sns.heatmap(cm, annot=True)\n",
    "\n",
    "# print classification report\n",
    "print(classification_report(y_true, predicted_class))"
   ]
  }
 ],
 "metadata": {
  "interpreter": {
   "hash": "3067ead486e059ec00ffe7555bdb889e6e264a24dc711bf108106cc7baee8d5d"
  },
  "kernelspec": {
   "display_name": "Python 3.8.5 64-bit (conda)",
   "language": "python",
   "name": "python3"
  },
  "language_info": {
   "codemirror_mode": {
    "name": "ipython",
    "version": 3
   },
   "file_extension": ".py",
   "mimetype": "text/x-python",
   "name": "python",
   "nbconvert_exporter": "python",
   "pygments_lexer": "ipython3",
   "version": "3.8.5"
  },
  "orig_nbformat": 4
 },
 "nbformat": 4,
 "nbformat_minor": 2
}
