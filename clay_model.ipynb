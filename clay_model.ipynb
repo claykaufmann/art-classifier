{
 "cells": [
  {
   "cell_type": "code",
   "execution_count": 1,
   "metadata": {},
   "outputs": [],
   "source": [
    "# imports\n",
    "from tensorflow.keras.applications.inception_v3 import InceptionV3, preprocess_input\n",
    "from tensorflow.keras import Input\n",
    "from tensorflow.keras.models import Model\n",
    "from tensorflow.keras.layers import Dense\n",
    "from tensorflow.keras.layers import Flatten\n",
    "import tensorflow as tf\n",
    "import tensorflow.keras as K\n",
    "import numpy as np\n",
    "import pandas as pd\n",
    "import os\n",
    "import glob\n",
    "from tensorflow.keras.callbacks import ModelCheckpoint, EarlyStopping\n",
    "from sklearn.metrics import accuracy_score, classification_report, confusion_matrix\n",
    "import seaborn as sns\n",
    "from keras.preprocessing.image import ImageDataGenerator\n"
   ]
  },
  {
   "cell_type": "code",
   "execution_count": 2,
   "metadata": {},
   "outputs": [],
   "source": [
    "# get directories\n",
    "main_direc = os.getcwd()\n",
    "images_dir = os.path.join(main_direc, 'data/images/images')\n",
    "\n",
    "# csv location\n",
    "artist_csv_loc = os.path.join(main_direc, 'data/artists.csv')"
   ]
  },
  {
   "cell_type": "markdown",
   "metadata": {},
   "source": [
    "## Loading Data\n",
    "The below section loads in the data, making necessary preprocess changes.\n",
    "Generators are used to augment the data.\n",
    "\n",
    "### Hyperparameter Section for data preprocessing\n",
    "The following code block allows you to set different hyperparams for loading in\n",
    "the images."
   ]
  },
  {
   "cell_type": "code",
   "execution_count": 3,
   "metadata": {},
   "outputs": [],
   "source": [
    "\"\"\"\n",
    "Set hyperparams for the number of classes and image generators\n",
    "\"\"\"\n",
    "\n",
    "IMG_WIDTH = 299\n",
    "IMG_HEIGHT = 299\n",
    "BATCH_SIZE = 64\n",
    "NUM_ARTISTS = 10 # this is 11 to get to 10 classes, can be changed..."
   ]
  },
  {
   "cell_type": "markdown",
   "metadata": {},
   "source": [
    "### DataFrame management\n",
    "The following code block loads the artists csv into pandas dataframe, sorts by\n",
    "number of paintings, and makes a dataframe with the top 10 artists by painting\n",
    "count, to give us the most amount of data possible."
   ]
  },
  {
   "cell_type": "code",
   "execution_count": 4,
   "metadata": {},
   "outputs": [],
   "source": [
    "# Collecting Needed Images\n",
    "artists = pd.read_csv(artist_csv_loc)\n",
    "\n",
    "# Creating a dataframe with the top 10 artists by number of paintings\n",
    "artists_sort = artists.sort_values(by=['paintings'], ascending=False)\n",
    "\n",
    "# add one to reach the first 10 classes\n",
    "artists_top = artists_sort.head(NUM_ARTISTS)\n",
    "\n",
    "# Images\n",
    "artists_dir = os.listdir(images_dir) # Files are named after each artists\n",
    "\n",
    "# Images DataFrame\n",
    "artists_top_name = artists_top['name'].str.replace(' ', '_').values\n",
    "\n",
    "images_df = pd.DataFrame()\n",
    "for name in artists_top_name:\n",
    "    images_df = pd.concat([images_df, pd.DataFrame(data={'Path': glob.glob('data/images/images/' + name + '/*'), 'Name': name})], ignore_index=True)\n",
    "\n",
    "train_df = images_df.sample(frac=0.8, random_state=200)\n",
    "test_df = images_df.drop(train_df.index)\n",
    "\n",
    "if K.backend.image_data_format() == 'channels_first':\n",
    "    input_shape = (3, IMG_HEIGHT, IMG_WIDTH)\n",
    "else:\n",
    "    input_shape = (IMG_HEIGHT, IMG_WIDTH, 3)"
   ]
  },
  {
   "cell_type": "markdown",
   "metadata": {},
   "source": [
    "### Building generators\n",
    "The next code block builds generators for augmenting the data."
   ]
  },
  {
   "cell_type": "code",
   "execution_count": 5,
   "metadata": {},
   "outputs": [
    {
     "name": "stdout",
     "output_type": "stream",
     "text": [
      "Found 2761 validated image filenames belonging to 10 classes.\n",
      "Found 487 validated image filenames belonging to 10 classes.\n",
      "Found 812 validated image filenames.\n"
     ]
    }
   ],
   "source": [
    "\"\"\"\n",
    "Build generators\n",
    "\"\"\"\n",
    "\n",
    "train_generator = ImageDataGenerator(rescale=1.0 / 255,\n",
    "                                    rotation_range=20,\n",
    "                                    zoom_range=0.05,\n",
    "                                    width_shift_range=0.05,\n",
    "                                    height_shift_range=0.05,\n",
    "                                    shear_range=0.05,\n",
    "                                    horizontal_flip=True,\n",
    "                                    fill_mode=\"nearest\",\n",
    "                                    validation_split=0.15,\n",
    "                                    preprocessing_function=preprocess_input\n",
    "                                    )\n",
    "\n",
    "test_generator = ImageDataGenerator(rescale=1.0 / 255, preprocessing_function=preprocess_input)\n",
    "\n",
    "train_gen = train_generator.flow_from_dataframe(\n",
    "    train_df,\n",
    "    shuffle=True,\n",
    "    x_col='Path',\n",
    "    y_col='Name',\n",
    "    class_mode='categorical',\n",
    "    subset=\"training\",\n",
    "    batch_size=BATCH_SIZE,\n",
    "    target_size=(IMG_HEIGHT, IMG_WIDTH),\n",
    "    seed=42\n",
    ")\n",
    "\n",
    "valid_gen = train_generator.flow_from_dataframe(\n",
    "    train_df,\n",
    "    subset=\"validation\",\n",
    "    shuffle=True,\n",
    "    x_col='Path',\n",
    "    y_col='Name',\n",
    "    class_mode='categorical',\n",
    "    batch_size=BATCH_SIZE,\n",
    "    target_size=(IMG_HEIGHT, IMG_WIDTH),\n",
    "    seed=42\n",
    ")\n",
    "\n",
    "test_gen = test_generator.flow_from_dataframe(\n",
    "    test_df,\n",
    "    x_col='Path',\n",
    "    batch_size=1,\n",
    "    shuffle=False,\n",
    "    class_mode=None,\n",
    "    target_size=(IMG_HEIGHT, IMG_WIDTH)\n",
    ")\n",
    "\n",
    "# Set the amount of steps for training, validation, and testing data\n",
    "# based on the batch size\n",
    "steps_train = train_gen.n//train_gen.batch_size\n",
    "steps_valid = valid_gen.n//valid_gen.batch_size\n",
    "steps_test = test_gen.n//test_gen.batch_size"
   ]
  },
  {
   "cell_type": "markdown",
   "metadata": {},
   "source": [
    "## Clay's Model\n",
    "The following model was designed by Clay Kaufmann. It uses Inception V3 as a\n",
    "base line, and makes modifications from there."
   ]
  },
  {
   "cell_type": "markdown",
   "metadata": {},
   "source": [
    "### Hyperparameter Block\n",
    "Set different hyperparameters for the model with the following block."
   ]
  },
  {
   "cell_type": "code",
   "execution_count": 6,
   "metadata": {},
   "outputs": [],
   "source": [
    "\"\"\"\n",
    "Hyperparameters here:\n",
    "\"\"\"\n",
    "\n",
    "N_EPOCHS = 10\n",
    "LEARNING_RATE = 0.001 # 0.001 is the default for Adam set by TensorFlow\n",
    "OPTIMIZER = tf.optimizers.Adam(learning_rate=LEARNING_RATE)\n",
    "LOSS_FUNCTION = tf.losses.CategoricalCrossentropy(from_logits=False)"
   ]
  },
  {
   "cell_type": "code",
   "execution_count": 7,
   "metadata": {},
   "outputs": [
    {
     "name": "stderr",
     "output_type": "stream",
     "text": [
      "2021-12-17 15:42:09.915276: I tensorflow/core/platform/cpu_feature_guard.cc:142] This TensorFlow binary is optimized with oneAPI Deep Neural Network Library (oneDNN) to use the following CPU instructions in performance-critical operations:  AVX2 FMA\n",
      "To enable them in other operations, rebuild TensorFlow with the appropriate compiler flags.\n"
     ]
    },
    {
     "name": "stdout",
     "output_type": "stream",
     "text": [
      "Model: \"sequential\"\n",
      "_________________________________________________________________\n",
      "Layer (type)                 Output Shape              Param #   \n",
      "=================================================================\n",
      "inception_v3 (Functional)    (None, 2048)              21802784  \n",
      "_________________________________________________________________\n",
      "flatten (Flatten)            (None, 2048)              0         \n",
      "_________________________________________________________________\n",
      "batch_normalization_94 (Batc (None, 2048)              8192      \n",
      "_________________________________________________________________\n",
      "dense (Dense)                (None, 256)               524544    \n",
      "_________________________________________________________________\n",
      "dropout (Dropout)            (None, 256)               0         \n",
      "_________________________________________________________________\n",
      "dense_1 (Dense)              (None, 10)                2570      \n",
      "=================================================================\n",
      "Total params: 22,338,090\n",
      "Trainable params: 531,210\n",
      "Non-trainable params: 21,806,880\n",
      "_________________________________________________________________\n"
     ]
    }
   ],
   "source": [
    "\"\"\"\n",
    "Build the model\n",
    "\"\"\"\n",
    "\n",
    "# set the input for VGG\n",
    "inp = Input(shape=(IMG_HEIGHT,IMG_WIDTH,3))\n",
    "\n",
    "# load model\n",
    "base_model = InceptionV3(include_top=False, input_tensor=inp, pooling='max', weights='imagenet')\n",
    "\n",
    "# set base model to not be trainable\n",
    "base_model.trainable = False\n",
    "\n",
    "# create sequential model\n",
    "final_model = tf.keras.Sequential()\n",
    "\n",
    "# add the base model in\n",
    "final_model.add(base_model)\n",
    "\n",
    "final_model.add(K.layers.Flatten())\n",
    "final_model.add(K.layers.BatchNormalization())\n",
    "final_model.add(Dense(256, activation='relu'))\n",
    "final_model.add(K.layers.Dropout(0.6))\n",
    "\n",
    "# this needed to be the number of artists - 1\n",
    "final_model.add(Dense(NUM_ARTISTS, activation='softmax'))\n",
    "\n",
    "final_model.summary()\n",
    "\n",
    "# compile model\n",
    "final_model.compile(\n",
    "  optimizer=OPTIMIZER,\n",
    "  loss=LOSS_FUNCTION,\n",
    "  metrics=['accuracy']\n",
    ")"
   ]
  },
  {
   "cell_type": "code",
   "execution_count": null,
   "metadata": {},
   "outputs": [],
   "source": [
    "\"\"\"\n",
    "Train the model\n",
    "\"\"\"\n",
    "\n",
    "# create a checkpoint for the model\n",
    "checkpt = ModelCheckpoint(filepath='clay_trained_model.hdf5', save_best_only=True, verbose=1)\n",
    "\n",
    "early_stop = EarlyStopping(monitor='val_loss', patience=10, restore_best_weights=True, mode='min')\n",
    "\n",
    "# Fit the model\n",
    "final_model.fit_generator(\n",
    "    generator = train_gen,\n",
    "    steps_per_epoch=steps_train,\n",
    "    validation_data = valid_gen,\n",
    "    validation_steps = steps_valid,\n",
    "    verbose=1,\n",
    "    epochs=N_EPOCHS,\n",
    "    callbacks=[checkpt, early_stop]\n",
    ")"
   ]
  },
  {
   "cell_type": "markdown",
   "metadata": {},
   "source": [
    "### Metrics Section\n",
    "In the following codeblocks, metrics are used and plots are created to show how\n",
    "the model performed.  \n",
    "A confusion matrix is creating, using Seaborn's heatmap feature. A\n",
    "classification report from sklearn metrics is also run."
   ]
  },
  {
   "cell_type": "code",
   "execution_count": 8,
   "metadata": {},
   "outputs": [
    {
     "name": "stderr",
     "output_type": "stream",
     "text": [
      "/usr/local/anaconda3/lib/python3.8/site-packages/keras/engine/training.py:2035: UserWarning: `Model.predict_generator` is deprecated and will be removed in a future version. Please use `Model.predict`, which supports generators.\n",
      "  warnings.warn('`Model.predict_generator` is deprecated and '\n",
      "2021-12-17 15:42:17.151471: I tensorflow/compiler/mlir/mlir_graph_optimization_pass.cc:185] None of the MLIR Optimization Passes are enabled (registered 2)\n"
     ]
    },
    {
     "name": "stdout",
     "output_type": "stream",
     "text": [
      "812/812 [==============================] - 70s 85ms/step\n"
     ]
    }
   ],
   "source": [
    "\"\"\"\n",
    "Make predictions\n",
    "\"\"\"\n",
    "\n",
    "# Load model weights\n",
    "final_model.load_weights('clay_trained_model.hdf5')\n",
    "\n",
    "# make predictions using the test set\n",
    "predict = final_model.predict_generator(test_gen, steps=steps_test, verbose=1)\n",
    "\n",
    "# collect the actual index of the predicted class\n",
    "predicted_class = np.argmax(predict, axis=1)"
   ]
  },
  {
   "cell_type": "code",
   "execution_count": 9,
   "metadata": {},
   "outputs": [
    {
     "name": "stdout",
     "output_type": "stream",
     "text": [
      "{'Albrecht_Dürer': 0, 'Alfred_Sisley': 1, 'Edgar_Degas': 2, 'Francisco_Goya': 3, 'Pablo_Picasso': 4, 'Paul_Gauguin': 5, 'Pierre-Auguste_Renoir': 6, 'Rembrandt': 7, 'Titian': 8, 'Vincent_van_Gogh': 9}\n",
      "              precision    recall  f1-score   support\n",
      "\n",
      "           0       0.84      0.78      0.81        59\n",
      "           1       0.86      0.70      0.77        53\n",
      "           2       0.75      0.67      0.71       156\n",
      "           3       0.87      0.47      0.61        57\n",
      "           4       0.58      0.89      0.70        89\n",
      "           5       0.73      0.55      0.62        64\n",
      "           6       0.88      0.67      0.76        79\n",
      "           7       0.70      0.79      0.75        48\n",
      "           8       0.77      0.68      0.72        44\n",
      "           9       0.64      0.82      0.72       163\n",
      "\n",
      "    accuracy                           0.72       812\n",
      "   macro avg       0.76      0.70      0.72       812\n",
      "weighted avg       0.74      0.72      0.72       812\n",
      "\n"
     ]
    },
    {
     "data": {
      "image/png": "[encoded data removed]",
      "text/plain": [
       "<Figure size 432x288 with 2 Axes>"
      ]
     },
     "metadata": {
      "needs_background": "light"
     },
     "output_type": "display_data"
    }
   ],
   "source": [
    "\"\"\"\n",
    "Produce result metrics\n",
    "\"\"\"\n",
    "\n",
    "# collect the actual classes of the predictions\n",
    "r = dict(train_gen.class_indices.items())\n",
    "y_true = test_df['Name']\n",
    "y_true = [r[k] for k in y_true]\n",
    "\n",
    "print(r)\n",
    "\n",
    "# create confusion matrix\n",
    "cm = confusion_matrix(y_true, predicted_class)\n",
    "sns.heatmap(cm, annot=True)\n",
    "\n",
    "# print classification report\n",
    "print(classification_report(y_true, predicted_class))"
   ]
  }
 ],
 "metadata": {
  "interpreter": {
   "hash": "3067ead486e059ec00ffe7555bdb889e6e264a24dc711bf108106cc7baee8d5d"
  },
  "kernelspec": {
   "display_name": "Python 3.8.5 64-bit (conda)",
   "language": "python",
   "name": "python3"
  },
  "language_info": {
   "codemirror_mode": {
    "name": "ipython",
    "version": 3
   },
   "file_extension": ".py",
   "mimetype": "text/x-python",
   "name": "python",
   "nbconvert_exporter": "python",
   "pygments_lexer": "ipython3",
   "version": "3.8.5"
  },
  "orig_nbformat": 4
 },
 "nbformat": 4,
 "nbformat_minor": 2
}
