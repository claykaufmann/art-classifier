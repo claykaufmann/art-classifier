{
  "cells": [
    {
      "cell_type": "markdown",
      "metadata": {
        "id": "CYnb8ZRH9iI9"
      },
      "source": [
        "# Painting Classification by Artitst"
      ]
    },
    {
      "cell_type": "markdown",
      "metadata": {
        "id": "h245kUaPCspV"
      },
      "source": [
        "# Read data"
      ]
    },
    {
      "cell_type": "code",
      "execution_count": null,
      "metadata": {
        "id": "1MEGlyt4KoUv"
      },
      "outputs": [],
      "source": [
        "# Imports\n",
        "import os\n",
        "import glob\n",
        "import pandas as pd\n",
        "import numpy as np\n",
        "import matplotlib.pyplot as plt\n",
        "import random\n",
        "\n",
        "import tensorflow as tf\n",
        "from tensorflow.keras.models import *\n",
        "from tensorflow.keras.layers import *\n",
        "from tensorflow.keras.applications import *\n",
        "from tensorflow.keras.preprocessing.image import ImageDataGenerator\n",
        "\n",
        "from sklearn.metrics import *"
      ]
    },
    {
      "cell_type": "code",
      "execution_count": null,
      "metadata": {
        "id": "KvdGaIbHLTVD"
      },
      "outputs": [],
      "source": [
        "# # Get directories\n",
        "main_direc = os.getcwd()\n",
        "# print(main_direc)\n",
        "images_dir = os.path.join(main_direc, 'data/images/images')\n",
        "# print(images_dir)\n",
        "\n",
        "# CSV location\n",
        "artist_csv_loc = os.path.join(main_direc, 'data/artists.csv')"
      ]
    },
    {
      "cell_type": "code",
      "execution_count": null,
      "metadata": {
        "id": "iCLjgyc1OUF2"
      },
      "outputs": [],
      "source": [
        "# Read in data about each artist\n",
        "artists = pd.read_csv(artist_csv_loc)\n",
        "# display(artists)\n",
        "# print(artists.shape)"
      ]
    },
    {
      "cell_type": "markdown",
      "metadata": {
        "id": "lTDHDy1NCspY"
      },
      "source": [
        "# Data Processing"
      ]
    },
    {
      "cell_type": "code",
      "execution_count": null,
      "metadata": {
        "id": "yiqXInVGPvph"
      },
      "outputs": [],
      "source": [
        "\"\"\"\n",
        "Set hyperparameters for the number of classes and image generators\n",
        "\"\"\"\n",
        "\n",
        "IMG_WIDTH = 128\n",
        "IMG_HEIGHT = 128\n",
        "BATCH_SIZE = 32\n",
        "NUM_ARTISTS = 10"
      ]
    },
    {
      "cell_type": "markdown",
      "metadata": {
        "id": "7QY7vWgjO5ke"
      },
      "source": [
        "## DataFram management"
      ]
    },
    {
      "cell_type": "markdown",
      "metadata": {
        "id": "CVY-5GZuQr1G"
      },
      "source": [
        "### Artists DataFram"
      ]
    },
    {
      "cell_type": "code",
      "execution_count": null,
      "metadata": {
        "id": "qO02S69TCspZ"
      },
      "outputs": [],
      "source": [
        "# Sortting the artists by number of paintings\n",
        "artists_sort = artists.sort_values(by=['paintings'], ascending=False)\n",
        "# print(artists_sort)"
      ]
    },
    {
      "cell_type": "code",
      "execution_count": null,
      "metadata": {
        "colab": {
          "base_uri": "https://localhost:8080/",
          "height": 363
        },
        "id": "wYgZPDvoCspe",
        "outputId": "35e52af5-09d7-43fa-e5b8-f0784695fdec"
      },
      "outputs": [],
      "source": [
        "# Creating a dataframe with the top 10 artists by number of paintings\n",
        "artists_top = artists_sort.head(NUM_ARTISTS)\n",
        "artists_top = artists_top.head(10).reset_index()\n",
        "display(artists_top[['name', 'paintings']].style.hide_index())"
      ]
    },
    {
      "cell_type": "markdown",
      "metadata": {
        "id": "2JOCZjMdReZ_"
      },
      "source": [
        "#### Assigning class weights"
      ]
    },
    {
      "cell_type": "code",
      "execution_count": null,
      "metadata": {
        "colab": {
          "base_uri": "https://localhost:8080/"
        },
        "id": "QJQdyQLyCspg",
        "outputId": "86804527-8891-44e8-fd37-b8ba90dd6a90"
      },
      "outputs": [],
      "source": [
        "# Assigning higher weights to underrepresented classes\n",
        "\n",
        "artists_top = artists_top[['name', 'paintings']]\n",
        "# display(artists_top)\n",
        "\n",
        "# Calculate (balanced) class weights\n",
        "artists_top['class_weight'] = artists_top.paintings.sum() / (artists_top.shape[0] * artists_top.paintings)\n",
        "# display(artists_top)\n",
        "\n",
        "# Assign class weights\n",
        "class_weights = artists_top['class_weight'].to_dict()\n",
        "class_weights\n",
        "\n",
        "# display(artists_top)"
      ]
    },
    {
      "cell_type": "markdown",
      "metadata": {
        "id": "lNP8gKaQQxA_"
      },
      "source": [
        "### Images DataFrame"
      ]
    },
    {
      "cell_type": "code",
      "execution_count": null,
      "metadata": {
        "id": "AuZmsTMxQ3B9"
      },
      "outputs": [],
      "source": [
        "# Creating a dataframe of all image\n",
        "\n",
        "artists_top_name = artists_top['name'].str.replace(' ', '_').values\n",
        "# print(artists_top_name)\n",
        "\n",
        "images_df = pd.DataFrame()\n",
        "for name in artists_top_name:\n",
        "    images_df = pd.concat([images_df, pd.DataFrame(data={'path': glob.glob(images_dir + \"/\" + name + '/*'), 'name': name})], ignore_index=True)\n",
        "\n",
        "# display(images_df)"
      ]
    },
    {
      "cell_type": "markdown",
      "metadata": {
        "id": "JQldPJLpU4xf"
      },
      "source": [
        "## Split data into train and test sets"
      ]
    },
    {
      "cell_type": "code",
      "execution_count": null,
      "metadata": {
        "id": "uQhW8hcrU4dC"
      },
      "outputs": [],
      "source": [
        "# Train and test split\n",
        "train_df = images_df.sample(frac=0.8, random_state=200)\n",
        "test_df = images_df.drop(train_df.index)"
      ]
    },
    {
      "cell_type": "markdown",
      "metadata": {
        "id": "G6jEt6ukVVrc"
      },
      "source": [
        "## Data Augmentation"
      ]
    },
    {
      "cell_type": "code",
      "execution_count": null,
      "metadata": {
        "colab": {
          "base_uri": "https://localhost:8080/"
        },
        "id": "r1g2w98eVehU",
        "outputId": "c9b2b08e-fc30-4172-af4e-24d80d7c096b"
      },
      "outputs": [],
      "source": [
        "# Data augmentation using ImageDataGenerator\n",
        "\n",
        "train_datagen = ImageDataGenerator(validation_split=0.2,\n",
        "                                   rescale=1./255,\n",
        "                                   shear_range=1,\n",
        "                                   zoom_range=0.2,\n",
        "                                   horizontal_flip=True,\n",
        "                                   vertical_flip=True)\n",
        "\n",
        "train_generator = train_datagen.flow_from_dataframe(train_df,\n",
        "                                                   x_col='path',\n",
        "                                                   y_col='name',\n",
        "                                                   target_size=(IMG_HEIGHT, IMG_WIDTH),\n",
        "                                                   class_mode='categorical',\n",
        "                                                   # classes=artists_top_name.tolist(),\n",
        "                                                   batch_size=BATCH_SIZE,\n",
        "                                                   shuffle=True,\n",
        "                                                   seed=42,\n",
        "                                                   subset=\"training\")\n",
        "\n",
        "valid_generator = train_datagen.flow_from_dataframe(train_df,\n",
        "                                                   x_col='path',\n",
        "                                                   y_col='name',\n",
        "                                                   target_size=(IMG_HEIGHT, IMG_WIDTH),\n",
        "                                                   class_mode='categorical',\n",
        "                                                   batch_size=BATCH_SIZE,\n",
        "                                                   shuffle=True,\n",
        "                                                   seed=42,\n",
        "                                                   subset=\"validation\")\n",
        "\n",
        "test_datagen = ImageDataGenerator(rescale=1./255)\n",
        "\n",
        "test_generator = test_datagen.flow_from_dataframe(test_df,\n",
        "                                                 x_col='path',\n",
        "                                                 y_col='name',\n",
        "                                                 target_size=(IMG_HEIGHT, IMG_WIDTH),\n",
        "                                                 class_mode='categorical',\n",
        "                                                 batch_size=BATCH_SIZE,\n",
        "                                                 shuffle=False)\n",
        "\n",
        "# Set the amount of steps for training, validation, and testing data\n",
        "# based on the batch size\n",
        "STEP_SIZE_TRAIN = train_generator.n//train_generator.batch_size\n",
        "STEP_SIZE_VALID = valid_generator.n//valid_generator.batch_size\n",
        "STEP_SIZE_TEST = test_generator.n//test_generator.batch_size\n",
        "\n",
        "print(\"Total number of batches =\", str(STEP_SIZE_TRAIN) + \", \" + str(STEP_SIZE_VALID) + \", and \" + str(STEP_SIZE_TEST))"
      ]
    },
    {
      "cell_type": "markdown",
      "metadata": {
        "id": "TvYR02wfCspj"
      },
      "source": [
        "# Modeling"
      ]
    },
    {
      "cell_type": "markdown",
      "metadata": {
        "id": "36_QptqRCspl"
      },
      "source": [
        "## Building the Model"
      ]
    },
    {
      "cell_type": "code",
      "execution_count": null,
      "metadata": {
        "colab": {
          "base_uri": "https://localhost:8080/"
        },
        "id": "VJdKmid2Cspm",
        "outputId": "6fcbcf63-5778-43e5-9f29-991c2d2bfc50"
      },
      "outputs": [],
      "source": [
        "# Load pre-trained model\n",
        "base_model = ResNet50(include_top=False, weights='imagenet', input_shape=(IMG_HEIGHT, IMG_WIDTH, 3))"
      ]
    },
    {
      "cell_type": "code",
      "execution_count": null,
      "metadata": {
        "id": "uSCNeSiwCspm"
      },
      "outputs": [],
      "source": [
        "# Make pre-trained model's layers trainable\n",
        "for layer in base_model.layers:\n",
        "    layer.trainable = True\n",
        "\n",
        "# Adding pre-trained model layers\n",
        "X = base_model.output\n",
        "X = tf.keras.layers.Flatten()(X)\n",
        "X = tf.keras.layers.BatchNormalization()(X)\n",
        "\n",
        "# Add layers to the end of the pre-trained model\n",
        "X = tf.keras.layers.Dense(512, activation='relu')(X)\n",
        "X = tf.keras.layers.Dense(16, activation='relu')(X)\n",
        "\n",
        "# Add output layer\n",
        "outputs = tf.keras.layers.Dense(NUM_ARTISTS, activation='softmax')(X)\n",
        "\n",
        "# Create the model\n",
        "model = tf.keras.Model(inputs=base_model.input, outputs=outputs)"
      ]
    },
    {
      "cell_type": "code",
      "execution_count": null,
      "metadata": {
        "colab": {
          "base_uri": "https://localhost:8080/"
        },
        "id": "7AiS6yjsr7Aq",
        "outputId": "71e842c7-4963-41ae-bb1b-e8e6fff3ce8f"
      },
      "outputs": [],
      "source": [
        "model.summary()\n",
        "print(\"\\nTotal layers: \" + str(len(model.layers)))"
      ]
    },
    {
      "cell_type": "code",
      "execution_count": null,
      "metadata": {
        "id": "1wf7Q-rPCspm"
      },
      "outputs": [],
      "source": [
        "OPTIMIZER = tf.optimizers.Adam(learning_rate=0.0001)\n",
        "LOSS_FUNCTION = tf.losses.CategoricalCrossentropy()\n",
        "\n",
        "N_EPOCHS = 75\n",
        "\n",
        "early_stop = tf.keras.callbacks.EarlyStopping(monitor='val_loss', patience=10, mode='auto', restore_best_weights=True, verbose=1)\n",
        "\n",
        "# Compile the model\n",
        "model.compile(optimizer=OPTIMIZER,\n",
        "            loss=LOSS_FUNCTION,\n",
        "            metrics=['accuracy'])"
      ]
    },
    {
      "cell_type": "code",
      "execution_count": null,
      "metadata": {
        "colab": {
          "base_uri": "https://localhost:8080/"
        },
        "id": "JpNrq4xfCspm",
        "outputId": "411a6b4c-6aec-4df9-cd69-be19bd1e8937"
      },
      "outputs": [],
      "source": [
        "# Train the model on all layers\n",
        "history = model.fit(train_generator,\n",
        "                               epochs=N_EPOCHS,\n",
        "                               verbose=1,\n",
        "                               callbacks=[early_stop],\n",
        "                               validation_data=valid_generator,\n",
        "                               shuffle=True,\n",
        "                               class_weight=class_weights,\n",
        "                               steps_per_epoch=STEP_SIZE_TRAIN,\n",
        "                               validation_steps=STEP_SIZE_VALID,\n",
        "                               workers=16)"
      ]
    },
    {
      "cell_type": "markdown",
      "metadata": {
        "id": "oMUlF37Fne_H"
      },
      "source": [
        "## Model Evaluation"
      ]
    },
    {
      "cell_type": "code",
      "execution_count": null,
      "metadata": {
        "colab": {
          "base_uri": "https://localhost:8080/",
          "height": 336
        },
        "id": "OCeT4SnKCspo",
        "outputId": "54c053db-0c84-4c32-bebd-052bcfc1ba2c"
      },
      "outputs": [],
      "source": [
        "# Plot the training graph\n",
        "fig, axs = plt.subplots(1, 2, figsize=(10,5))\n",
        "\n",
        "axs[0].plot(history.history['accuracy'], label=\"Training Accuracy\")\n",
        "axs[0].plot(history.history['val_accuracy'], label=\"Valideation Accuracy\")\n",
        "axs[0].set_title('Training and Validation Accuracy')\n",
        "axs[0].legend()\n",
        "\n",
        "axs[1].plot(history.history['loss'], label=\"Training Loss\")\n",
        "axs[1].plot(history.history['val_loss'], label=\"Validation Loss\")\n",
        "axs[1].set_title('Training and Validation Loss')\n",
        "axs[1].legend()\n",
        "\n",
        "plt.show()"
      ]
    },
    {
      "cell_type": "code",
      "execution_count": null,
      "metadata": {
        "colab": {
          "base_uri": "https://localhost:8080/"
        },
        "id": "YaVqedQTCspo",
        "outputId": "922a6763-6e98-4b66-c7fd-54e788b81b52"
      },
      "outputs": [],
      "source": [
        "# Prediction accuracy on train data\n",
        "accuracy = model.evaluate(train_generator, verbose=1)\n",
        "print(\"Prediction accuracy on train data =\", accuracy[1])\n",
        "\n",
        "# Prediction accuracy on validation data\n",
        "accuracy = model.evaluate(valid_generator, verbose=1)\n",
        "print(\"Prediction accuracy on validation data =\", accuracy[1])\n",
        "\n",
        "# Prediction accuracy on test data\n",
        "accuracy = model.evaluate(test_generator, verbose=1)\n",
        "print(\"Prediction accuracy on test data =\", accuracy[1])"
      ]
    }
  ],
  "metadata": {
    "accelerator": "GPU",
    "colab": {
      "collapsed_sections": [
        "tEhKXUONMcgU"
      ],
      "name": "main-colin-v08-functional-model.ipynb",
      "provenance": []
    },
    "interpreter": {
      "hash": "8acd2a4c40bb06440d03e583eeea35c6596324a3385dafe16353bbc1939be192"
    },
    "kernelspec": {
      "display_name": "Python 3.7.11 64-bit ('tensorflow': conda)",
      "name": "python3"
    },
    "language_info": {
      "codemirror_mode": {
        "name": "ipython",
        "version": 3
      },
      "file_extension": ".py",
      "mimetype": "text/x-python",
      "name": "python",
      "nbconvert_exporter": "python",
      "pygments_lexer": "ipython3",
      "version": "3.7.11"
    }
  },
  "nbformat": 4,
  "nbformat_minor": 0
}
