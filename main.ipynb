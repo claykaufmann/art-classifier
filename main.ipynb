{
 "cells": [
  {
   "cell_type": "markdown",
   "metadata": {},
   "source": [
    "# Introdution"
   ]
  },
  {
   "cell_type": "markdown",
   "metadata": {},
   "source": [
    "# Read Data"
   ]
  },
  {
   "cell_type": "markdown",
   "metadata": {},
   "source": [
    "Make sure to have the data locally locally saved as `../cs254-final/project/data`."
   ]
  },
  {
   "cell_type": "code",
   "execution_count": 1,
   "metadata": {},
   "outputs": [],
   "source": [
    "# Import libraries\n",
    "import pandas as pd\n",
    "import numpy as np\n",
    "import os\n",
    "import glob"
   ]
  },
  {
   "cell_type": "code",
   "execution_count": 2,
   "metadata": {},
   "outputs": [
    {
     "name": "stdout",
     "output_type": "stream",
     "text": [
      "['main.ipynb', '.DS_Store', 'README.md', '.git', 'data']\n"
     ]
    }
   ],
   "source": [
    "print(os.listdir(\"../cs254-final-project\"))"
   ]
  },
  {
   "cell_type": "code",
   "execution_count": 3,
   "metadata": {},
   "outputs": [
    {
     "name": "stdout",
     "output_type": "stream",
     "text": [
      "(50, 8)\n"
     ]
    }
   ],
   "source": [
    "artists = pd.read_csv('../cs254-final-project/data/artists.csv')\n",
    "print(artists.shape)\n",
    "# print(artists)"
   ]
  },
  {
   "cell_type": "markdown",
   "metadata": {},
   "source": [
    "# Data Processing"
   ]
  },
  {
   "cell_type": "markdown",
   "metadata": {},
   "source": [
    "The following approach is a modified version of the approach from [DeepArtists: Identify Artist from Art](https://www.kaggle.com/supratimhaldar/deepartist-identify-artist-from-art)."
   ]
  },
  {
   "cell_type": "code",
   "execution_count": 4,
   "metadata": {},
   "outputs": [],
   "source": [
    "# Sortting the artists by number of paintings\n",
    "artists = artists.sort_values(by=['paintings'], ascending=False)\n",
    "# print(artists)"
   ]
  },
  {
   "cell_type": "code",
   "execution_count": 5,
   "metadata": {},
   "outputs": [
    {
     "data": {
      "text/html": [
       "<div>\n",
       "<style scoped>\n",
       "    .dataframe tbody tr th:only-of-type {\n",
       "        vertical-align: middle;\n",
       "    }\n",
       "\n",
       "    .dataframe tbody tr th {\n",
       "        vertical-align: top;\n",
       "    }\n",
       "\n",
       "    .dataframe thead th {\n",
       "        text-align: right;\n",
       "    }\n",
       "</style>\n",
       "<table border=\"1\" class=\"dataframe\">\n",
       "  <thead>\n",
       "    <tr style=\"text-align: right;\">\n",
       "      <th></th>\n",
       "      <th>id</th>\n",
       "      <th>name</th>\n",
       "      <th>years</th>\n",
       "      <th>genre</th>\n",
       "      <th>nationality</th>\n",
       "      <th>bio</th>\n",
       "      <th>wikipedia</th>\n",
       "      <th>paintings</th>\n",
       "    </tr>\n",
       "  </thead>\n",
       "  <tbody>\n",
       "    <tr>\n",
       "      <th>8</th>\n",
       "      <td>8</td>\n",
       "      <td>Vincent van Gogh</td>\n",
       "      <td>1853 – 1890</td>\n",
       "      <td>Post-Impressionism</td>\n",
       "      <td>Dutch</td>\n",
       "      <td>Vincent Willem van Gogh (Dutch: [ˈvɪnsɛnt ˈʋɪl...</td>\n",
       "      <td>http://en.wikipedia.org/wiki/Vincent_van_Gogh</td>\n",
       "      <td>877</td>\n",
       "    </tr>\n",
       "    <tr>\n",
       "      <th>30</th>\n",
       "      <td>30</td>\n",
       "      <td>Edgar Degas</td>\n",
       "      <td>1834 - 1917</td>\n",
       "      <td>Impressionism</td>\n",
       "      <td>French</td>\n",
       "      <td>Edgar Degas (US:  or UK: ; born Hilaire-Germai...</td>\n",
       "      <td>http://en.wikipedia.org/wiki/Edgar_Degas</td>\n",
       "      <td>702</td>\n",
       "    </tr>\n",
       "    <tr>\n",
       "      <th>13</th>\n",
       "      <td>13</td>\n",
       "      <td>Pablo Picasso</td>\n",
       "      <td>1881 - 1973</td>\n",
       "      <td>Cubism</td>\n",
       "      <td>Spanish</td>\n",
       "      <td>Pablo Ruiz Picasso (; Spanish: [ˈpaβlo piˈkaso...</td>\n",
       "      <td>http://en.wikipedia.org/wiki/Pablo_Picasso</td>\n",
       "      <td>439</td>\n",
       "    </tr>\n",
       "    <tr>\n",
       "      <th>15</th>\n",
       "      <td>15</td>\n",
       "      <td>Pierre-Auguste Renoir</td>\n",
       "      <td>1841 - 1919</td>\n",
       "      <td>Impressionism</td>\n",
       "      <td>French</td>\n",
       "      <td>Pierre-Auguste Renoir, commonly known as Augus...</td>\n",
       "      <td>http://en.wikipedia.org/wiki/Pierre-Auguste_Re...</td>\n",
       "      <td>336</td>\n",
       "    </tr>\n",
       "    <tr>\n",
       "      <th>19</th>\n",
       "      <td>19</td>\n",
       "      <td>Albrecht Dürer</td>\n",
       "      <td>1471 - 1528</td>\n",
       "      <td>Northern Renaissance</td>\n",
       "      <td>German</td>\n",
       "      <td>Albrecht Dürer (; German: [ˈʔalbʁɛçt ˈdyːʁɐ]; ...</td>\n",
       "      <td>http://en.wikipedia.org/wiki/Albrecht_Dürer</td>\n",
       "      <td>328</td>\n",
       "    </tr>\n",
       "    <tr>\n",
       "      <th>46</th>\n",
       "      <td>46</td>\n",
       "      <td>Paul Gauguin</td>\n",
       "      <td>1848 – 1903</td>\n",
       "      <td>Symbolism,Post-Impressionism</td>\n",
       "      <td>French</td>\n",
       "      <td>Eugène Henri Paul Gauguin (UK: , US: ; French:...</td>\n",
       "      <td>http://en.wikipedia.org/wiki/Paul_Gauguin</td>\n",
       "      <td>311</td>\n",
       "    </tr>\n",
       "    <tr>\n",
       "      <th>16</th>\n",
       "      <td>16</td>\n",
       "      <td>Francisco Goya</td>\n",
       "      <td>1746 - 1828</td>\n",
       "      <td>Romanticism</td>\n",
       "      <td>Spanish</td>\n",
       "      <td>Francisco José de Goya y Lucientes (; Spanish:...</td>\n",
       "      <td>http://en.wikipedia.org/wiki/Francisco_Goya</td>\n",
       "      <td>291</td>\n",
       "    </tr>\n",
       "    <tr>\n",
       "      <th>31</th>\n",
       "      <td>31</td>\n",
       "      <td>Rembrandt</td>\n",
       "      <td>1606 - 1669</td>\n",
       "      <td>Baroque</td>\n",
       "      <td>Dutch</td>\n",
       "      <td>Rembrandt Harmenszoon van Rijn (; Dutch: [ˈrɛm...</td>\n",
       "      <td>http://en.wikipedia.org/wiki/Rembrandt</td>\n",
       "      <td>262</td>\n",
       "    </tr>\n",
       "    <tr>\n",
       "      <th>20</th>\n",
       "      <td>20</td>\n",
       "      <td>Alfred Sisley</td>\n",
       "      <td>1839 - 1899</td>\n",
       "      <td>Impressionism</td>\n",
       "      <td>French,British</td>\n",
       "      <td>Alfred Sisley (; French: [sislɛ]; 30 October 1...</td>\n",
       "      <td>http://en.wikipedia.org/wiki/Alfred_Sisley</td>\n",
       "      <td>259</td>\n",
       "    </tr>\n",
       "    <tr>\n",
       "      <th>32</th>\n",
       "      <td>32</td>\n",
       "      <td>Titian</td>\n",
       "      <td>1488 - 1576</td>\n",
       "      <td>High Renaissance,Mannerism</td>\n",
       "      <td>Italian</td>\n",
       "      <td>Tiziano Vecelli or Tiziano Vecellio (pronounce...</td>\n",
       "      <td>http://en.wikipedia.org/wiki/Titian</td>\n",
       "      <td>255</td>\n",
       "    </tr>\n",
       "  </tbody>\n",
       "</table>\n",
       "</div>"
      ],
      "text/plain": [
       "    id                   name        years                         genre  \\\n",
       "8    8       Vincent van Gogh  1853 – 1890            Post-Impressionism   \n",
       "30  30            Edgar Degas  1834 - 1917                 Impressionism   \n",
       "13  13          Pablo Picasso  1881 - 1973                        Cubism   \n",
       "15  15  Pierre-Auguste Renoir  1841 - 1919                 Impressionism   \n",
       "19  19         Albrecht Dürer  1471 - 1528          Northern Renaissance   \n",
       "46  46           Paul Gauguin  1848 – 1903  Symbolism,Post-Impressionism   \n",
       "16  16         Francisco Goya  1746 - 1828                   Romanticism   \n",
       "31  31              Rembrandt  1606 - 1669                       Baroque   \n",
       "20  20          Alfred Sisley  1839 - 1899                 Impressionism   \n",
       "32  32                 Titian  1488 - 1576    High Renaissance,Mannerism   \n",
       "\n",
       "       nationality                                                bio  \\\n",
       "8            Dutch  Vincent Willem van Gogh (Dutch: [ˈvɪnsɛnt ˈʋɪl...   \n",
       "30          French  Edgar Degas (US:  or UK: ; born Hilaire-Germai...   \n",
       "13         Spanish  Pablo Ruiz Picasso (; Spanish: [ˈpaβlo piˈkaso...   \n",
       "15          French  Pierre-Auguste Renoir, commonly known as Augus...   \n",
       "19          German  Albrecht Dürer (; German: [ˈʔalbʁɛçt ˈdyːʁɐ]; ...   \n",
       "46          French  Eugène Henri Paul Gauguin (UK: , US: ; French:...   \n",
       "16         Spanish  Francisco José de Goya y Lucientes (; Spanish:...   \n",
       "31           Dutch  Rembrandt Harmenszoon van Rijn (; Dutch: [ˈrɛm...   \n",
       "20  French,British  Alfred Sisley (; French: [sislɛ]; 30 October 1...   \n",
       "32         Italian  Tiziano Vecelli or Tiziano Vecellio (pronounce...   \n",
       "\n",
       "                                            wikipedia  paintings  \n",
       "8       http://en.wikipedia.org/wiki/Vincent_van_Gogh        877  \n",
       "30           http://en.wikipedia.org/wiki/Edgar_Degas        702  \n",
       "13         http://en.wikipedia.org/wiki/Pablo_Picasso        439  \n",
       "15  http://en.wikipedia.org/wiki/Pierre-Auguste_Re...        336  \n",
       "19        http://en.wikipedia.org/wiki/Albrecht_Dürer        328  \n",
       "46          http://en.wikipedia.org/wiki/Paul_Gauguin        311  \n",
       "16        http://en.wikipedia.org/wiki/Francisco_Goya        291  \n",
       "31             http://en.wikipedia.org/wiki/Rembrandt        262  \n",
       "20         http://en.wikipedia.org/wiki/Alfred_Sisley        259  \n",
       "32                http://en.wikipedia.org/wiki/Titian        255  "
      ]
     },
     "execution_count": 5,
     "metadata": {},
     "output_type": "execute_result"
    }
   ],
   "source": [
    "# Creating a dataframe with the top 10 artists by number of paintings\n",
    "artists_top = artists.head(10)\n",
    "artists_top"
   ]
  },
  {
   "cell_type": "markdown",
   "metadata": {},
   "source": [
    "## Exploring data and creating a DataFrame of all image paths with their associated artists"
   ]
  },
  {
   "cell_type": "code",
   "execution_count": 6,
   "metadata": {},
   "outputs": [],
   "source": [
    "# Images\n",
    "images_dir = '../cs254-final-project/data/images/images'\n",
    "artists_dir = os.listdir(images_dir) # Files are named after each artists"
   ]
  },
  {
   "cell_type": "code",
   "execution_count": 7,
   "metadata": {},
   "outputs": [
    {
     "data": {
      "text/html": [
       "<div>\n",
       "<style scoped>\n",
       "    .dataframe tbody tr th:only-of-type {\n",
       "        vertical-align: middle;\n",
       "    }\n",
       "\n",
       "    .dataframe tbody tr th {\n",
       "        vertical-align: top;\n",
       "    }\n",
       "\n",
       "    .dataframe thead th {\n",
       "        text-align: right;\n",
       "    }\n",
       "</style>\n",
       "<table border=\"1\" class=\"dataframe\">\n",
       "  <thead>\n",
       "    <tr style=\"text-align: right;\">\n",
       "      <th></th>\n",
       "      <th>Path</th>\n",
       "      <th>Name</th>\n",
       "    </tr>\n",
       "  </thead>\n",
       "  <tbody>\n",
       "    <tr>\n",
       "      <th>0</th>\n",
       "      <td>../cs254-final-project/data/images/images/Vinc...</td>\n",
       "      <td>Vincent_van_Gogh</td>\n",
       "    </tr>\n",
       "    <tr>\n",
       "      <th>1</th>\n",
       "      <td>../cs254-final-project/data/images/images/Vinc...</td>\n",
       "      <td>Vincent_van_Gogh</td>\n",
       "    </tr>\n",
       "    <tr>\n",
       "      <th>2</th>\n",
       "      <td>../cs254-final-project/data/images/images/Vinc...</td>\n",
       "      <td>Vincent_van_Gogh</td>\n",
       "    </tr>\n",
       "    <tr>\n",
       "      <th>3</th>\n",
       "      <td>../cs254-final-project/data/images/images/Vinc...</td>\n",
       "      <td>Vincent_van_Gogh</td>\n",
       "    </tr>\n",
       "    <tr>\n",
       "      <th>4</th>\n",
       "      <td>../cs254-final-project/data/images/images/Vinc...</td>\n",
       "      <td>Vincent_van_Gogh</td>\n",
       "    </tr>\n",
       "    <tr>\n",
       "      <th>...</th>\n",
       "      <td>...</td>\n",
       "      <td>...</td>\n",
       "    </tr>\n",
       "    <tr>\n",
       "      <th>4055</th>\n",
       "      <td>../cs254-final-project/data/images/images/Titi...</td>\n",
       "      <td>Titian</td>\n",
       "    </tr>\n",
       "    <tr>\n",
       "      <th>4056</th>\n",
       "      <td>../cs254-final-project/data/images/images/Titi...</td>\n",
       "      <td>Titian</td>\n",
       "    </tr>\n",
       "    <tr>\n",
       "      <th>4057</th>\n",
       "      <td>../cs254-final-project/data/images/images/Titi...</td>\n",
       "      <td>Titian</td>\n",
       "    </tr>\n",
       "    <tr>\n",
       "      <th>4058</th>\n",
       "      <td>../cs254-final-project/data/images/images/Titi...</td>\n",
       "      <td>Titian</td>\n",
       "    </tr>\n",
       "    <tr>\n",
       "      <th>4059</th>\n",
       "      <td>../cs254-final-project/data/images/images/Titi...</td>\n",
       "      <td>Titian</td>\n",
       "    </tr>\n",
       "  </tbody>\n",
       "</table>\n",
       "<p>4060 rows × 2 columns</p>\n",
       "</div>"
      ],
      "text/plain": [
       "                                                   Path              Name\n",
       "0     ../cs254-final-project/data/images/images/Vinc...  Vincent_van_Gogh\n",
       "1     ../cs254-final-project/data/images/images/Vinc...  Vincent_van_Gogh\n",
       "2     ../cs254-final-project/data/images/images/Vinc...  Vincent_van_Gogh\n",
       "3     ../cs254-final-project/data/images/images/Vinc...  Vincent_van_Gogh\n",
       "4     ../cs254-final-project/data/images/images/Vinc...  Vincent_van_Gogh\n",
       "...                                                 ...               ...\n",
       "4055  ../cs254-final-project/data/images/images/Titi...            Titian\n",
       "4056  ../cs254-final-project/data/images/images/Titi...            Titian\n",
       "4057  ../cs254-final-project/data/images/images/Titi...            Titian\n",
       "4058  ../cs254-final-project/data/images/images/Titi...            Titian\n",
       "4059  ../cs254-final-project/data/images/images/Titi...            Titian\n",
       "\n",
       "[4060 rows x 2 columns]"
      ]
     },
     "execution_count": 7,
     "metadata": {},
     "output_type": "execute_result"
    }
   ],
   "source": [
    "# Images DataFrame\n",
    "artists_top_name = artists_top['name'].str.replace(' ', '_').values\n",
    "\n",
    "images_df = pd.DataFrame()\n",
    "for name in artists_top_name:\n",
    "    # print(glob.glob('../cs254-final-project/data/images/images/' + name + '/*'))\n",
    "\n",
    "    # Method 1:\n",
    "    #\n",
    "    # images_df = images_df.append(pd.DataFrame(data={'Path': glob.glob('../cs254-final-project/data/images/images/' + name + '/*'), 'Name': name}), ignore_index=True)\n",
    "\n",
    "    # Method 2:\n",
    "    #\n",
    "    images_df = pd.concat([images_df, pd.DataFrame(data={'Path': glob.glob('../cs254-final-project/data/images/images/' + name + '/*'), 'Name': name})], ignore_index=True)\n",
    "\n",
    "images_df"
   ]
  },
  {
   "cell_type": "code",
   "execution_count": 8,
   "metadata": {},
   "outputs": [],
   "source": [
    "# Converting the Images DataFrame to a .csv\n",
    "images_df.to_csv('../cs254-final-project/data/images.csv', index=True)"
   ]
  },
  {
   "cell_type": "code",
   "execution_count": null,
   "metadata": {},
   "outputs": [],
   "source": []
  }
 ],
 "metadata": {
  "interpreter": {
   "hash": "692d09b4dacf124fdef69f3bbff0d3ac40d8195fcba6a04f8a39fe91c9438d1d"
  },
  "kernelspec": {
   "display_name": "Python 3.8.11 64-bit ('base': conda)",
   "name": "python3"
  },
  "language_info": {
   "codemirror_mode": {
    "name": "ipython",
    "version": 3
   },
   "file_extension": ".py",
   "mimetype": "text/x-python",
   "name": "python",
   "nbconvert_exporter": "python",
   "pygments_lexer": "ipython3",
   "version": "3.8.11"
  },
  "orig_nbformat": 4
 },
 "nbformat": 4,
 "nbformat_minor": 2
}
