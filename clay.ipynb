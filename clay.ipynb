{
 "cells": [
  {
   "cell_type": "code",
   "execution_count": 1,
   "metadata": {},
   "outputs": [],
   "source": [
    "# imports\n",
    "from keras.preprocessing.image import ImageDataGenerator, array_to_img,img_to_array,load_img\n",
    "import tensorflow.keras as K\n",
    "from tensorflow.keras.applications.inception_v3 import InceptionV3, preprocess_input\n",
    "from tensorflow.keras import Input\n",
    "from tensorflow.keras.models import Model\n",
    "from tensorflow.keras.layers import Dense\n",
    "from tensorflow.keras.layers import Flatten\n",
    "import tensorflow as tf\n",
    "import numpy as np\n",
    "import pandas as pd\n",
    "import os\n",
    "import glob"
   ]
  },
  {
   "cell_type": "code",
   "execution_count": 2,
   "metadata": {},
   "outputs": [],
   "source": [
    "# get directories\n",
    "main_direc = os.getcwd()\n",
    "images_dir = os.path.join(main_direc, 'data/images/images')\n",
    "\n",
    "# csv location\n",
    "artist_csv_loc = os.path.join(main_direc, 'data/artists.csv')"
   ]
  },
  {
   "cell_type": "markdown",
   "metadata": {},
   "source": [
    "## Loading Data\n",
    "The below section loads in the data, making necessary preprocess changes.\n",
    "Generators are used to augment the data.\n",
    "\n",
    "### Hyperparameter Section for data preprocessing\n",
    "The following code block allows you to set different hyperparams for loading in\n",
    "the images."
   ]
  },
  {
   "cell_type": "code",
   "execution_count": 3,
   "metadata": {},
   "outputs": [],
   "source": [
    "\"\"\"\n",
    "Set hyperparams for the number of classes and image generators\n",
    "\"\"\"\n",
    "\n",
    "IMG_WIDTH = 299\n",
    "IMG_HEIGHT = 299\n",
    "BATCH_SIZE = 64\n",
    "NUM_ARTISTS = 10 # this is 11 to get to 10 classes, can be changed..."
   ]
  },
  {
   "cell_type": "markdown",
   "metadata": {},
   "source": [
    "### DataFrame management\n",
    "The following code block loads the artists csv into pandas dataframe, sorts by\n",
    "number of paintings, and makes a dataframe with the top 10 artists by painting\n",
    "count, to give us the most amount of data possible."
   ]
  },
  {
   "cell_type": "code",
   "execution_count": 4,
   "metadata": {},
   "outputs": [
    {
     "name": "stdout",
     "output_type": "stream",
     "text": [
      "    id                   name        years                         genre  \\\n",
      "8    8       Vincent van Gogh  1853 – 1890            Post-Impressionism   \n",
      "30  30            Edgar Degas  1834 - 1917                 Impressionism   \n",
      "13  13          Pablo Picasso  1881 - 1973                        Cubism   \n",
      "15  15  Pierre-Auguste Renoir  1841 - 1919                 Impressionism   \n",
      "19  19         Albrecht Dürer  1471 - 1528          Northern Renaissance   \n",
      "46  46           Paul Gauguin  1848 – 1903  Symbolism,Post-Impressionism   \n",
      "16  16         Francisco Goya  1746 - 1828                   Romanticism   \n",
      "31  31              Rembrandt  1606 - 1669                       Baroque   \n",
      "20  20          Alfred Sisley  1839 - 1899                 Impressionism   \n",
      "32  32                 Titian  1488 - 1576    High Renaissance,Mannerism   \n",
      "\n",
      "       nationality                                                bio  \\\n",
      "8            Dutch  Vincent Willem van Gogh (Dutch: [ˈvɪnsɛnt ˈʋɪl...   \n",
      "30          French  Edgar Degas (US:  or UK: ; born Hilaire-Germai...   \n",
      "13         Spanish  Pablo Ruiz Picasso (; Spanish: [ˈpaβlo piˈkaso...   \n",
      "15          French  Pierre-Auguste Renoir, commonly known as Augus...   \n",
      "19          German  Albrecht Dürer (; German: [ˈʔalbʁɛçt ˈdyːʁɐ]; ...   \n",
      "46          French  Eugène Henri Paul Gauguin (UK: , US: ; French:...   \n",
      "16         Spanish  Francisco José de Goya y Lucientes (; Spanish:...   \n",
      "31           Dutch  Rembrandt Harmenszoon van Rijn (; Dutch: [ˈrɛm...   \n",
      "20  French,British  Alfred Sisley (; French: [sislɛ]; 30 October 1...   \n",
      "32         Italian  Tiziano Vecelli or Tiziano Vecellio (pronounce...   \n",
      "\n",
      "                                            wikipedia  paintings  \n",
      "8       http://en.wikipedia.org/wiki/Vincent_van_Gogh        877  \n",
      "30           http://en.wikipedia.org/wiki/Edgar_Degas        702  \n",
      "13         http://en.wikipedia.org/wiki/Pablo_Picasso        439  \n",
      "15  http://en.wikipedia.org/wiki/Pierre-Auguste_Re...        336  \n",
      "19        http://en.wikipedia.org/wiki/Albrecht_Dürer        328  \n",
      "46          http://en.wikipedia.org/wiki/Paul_Gauguin        311  \n",
      "16        http://en.wikipedia.org/wiki/Francisco_Goya        291  \n",
      "31             http://en.wikipedia.org/wiki/Rembrandt        262  \n",
      "20         http://en.wikipedia.org/wiki/Alfred_Sisley        259  \n",
      "32                http://en.wikipedia.org/wiki/Titian        255  \n",
      "                                                   Path         Name\n",
      "0     data/images/images/Edgar_Degas/Edgar_Degas_455...  Edgar_Degas\n",
      "1     data/images/images/Edgar_Degas/Edgar_Degas_333...  Edgar_Degas\n",
      "2     data/images/images/Edgar_Degas/Edgar_Degas_47.jpg  Edgar_Degas\n",
      "3     data/images/images/Edgar_Degas/Edgar_Degas_327...  Edgar_Degas\n",
      "4     data/images/images/Edgar_Degas/Edgar_Degas_53.jpg  Edgar_Degas\n",
      "...                                                 ...          ...\n",
      "3178           data/images/images/Titian/Titian_161.jpg       Titian\n",
      "3179           data/images/images/Titian/Titian_149.jpg       Titian\n",
      "3180            data/images/images/Titian/Titian_88.jpg       Titian\n",
      "3181           data/images/images/Titian/Titian_203.jpg       Titian\n",
      "3182           data/images/images/Titian/Titian_217.jpg       Titian\n",
      "\n",
      "[3183 rows x 2 columns]\n"
     ]
    }
   ],
   "source": [
    "# Collecting Needed Images\n",
    "artists = pd.read_csv(artist_csv_loc)\n",
    "\n",
    "# Creating a dataframe with the top 10 artists by number of paintings\n",
    "artists_sort = artists.sort_values(by=['paintings'], ascending=False)\n",
    "\n",
    "artists_top = artists_sort.head(NUM_ARTISTS)\n",
    "print(artists_top)\n",
    "\n",
    "# Images\n",
    "artists_dir = os.listdir(images_dir) # Files are named after each artists\n",
    "\n",
    "# Images DataFrame\n",
    "artists_top_name = artists_top['name'].str.replace(' ', '_').values\n",
    "\n",
    "images_df = pd.DataFrame()\n",
    "for name in artists_top_name:\n",
    "    images_df = pd.concat([images_df, pd.DataFrame(data={'Path': glob.glob('data/images/images/' + name + '/*'), 'Name': name})], ignore_index=True)\n",
    "\n",
    "print(images_df)\n",
    "\n",
    "train_df = images_df.sample(frac=0.8, random_state=200)\n",
    "test_df = images_df.drop(train_df.index)\n",
    "\n",
    "if K.backend.image_data_format() == 'channels_first':\n",
    "    input_shape = (3, IMG_WIDTH, IMG_HEIGHT)\n",
    "else:\n",
    "    input_shape = (IMG_WIDTH, IMG_HEIGHT, 3)"
   ]
  },
  {
   "cell_type": "markdown",
   "metadata": {},
   "source": [
    "### Building generators\n",
    "The next code block builds generators for augmenting the data."
   ]
  },
  {
   "cell_type": "code",
   "execution_count": 5,
   "metadata": {},
   "outputs": [
    {
     "name": "stdout",
     "output_type": "stream",
     "text": [
      "Found 2165 validated image filenames belonging to 9 classes.\n",
      "Found 381 validated image filenames belonging to 9 classes.\n",
      "Found 637 validated image filenames.\n"
     ]
    }
   ],
   "source": [
    "\"\"\"\n",
    "Build generators\n",
    "\"\"\"\n",
    "\n",
    "train_generator = ImageDataGenerator(rescale=1.0 / 255,\n",
    "                                    rotation_range=20,\n",
    "                                    zoom_range=0.05,\n",
    "                                    width_shift_range=0.05,\n",
    "                                    height_shift_range=0.05,\n",
    "                                    shear_range=0.05,\n",
    "                                    horizontal_flip=True,\n",
    "                                    fill_mode=\"nearest\",\n",
    "                                    validation_split=0.15,\n",
    "                                    preprocessing_function=preprocess_input\n",
    "                                    )\n",
    "\n",
    "test_generator = ImageDataGenerator(rescale=1.0 / 255, preprocessing_function=preprocess_input)\n",
    "\n",
    "train_gen = train_generator.flow_from_dataframe(\n",
    "    train_df,\n",
    "    shuffle=True,\n",
    "    x_col='Path',\n",
    "    y_col='Name',\n",
    "    class_mode='categorical',\n",
    "    subset=\"training\",\n",
    "    batch_size=BATCH_SIZE,\n",
    "    target_size=(IMG_WIDTH, IMG_HEIGHT),\n",
    "    seed=42\n",
    ")\n",
    "\n",
    "valid_gen = train_generator.flow_from_dataframe(\n",
    "    train_df,\n",
    "    subset=\"validation\",\n",
    "    shuffle=True,\n",
    "    x_col='Path',\n",
    "    y_col='Name',\n",
    "    class_mode='categorical',\n",
    "    batch_size=BATCH_SIZE,\n",
    "    target_size=(IMG_WIDTH, IMG_HEIGHT),\n",
    "    seed=42\n",
    ")\n",
    "\n",
    "test_gen = test_generator.flow_from_dataframe(\n",
    "    test_df,\n",
    "    x_col='Path',\n",
    "    batch_size=1,\n",
    "    shuffle=False,\n",
    "    class_mode=None,\n",
    "    target_size=(IMG_WIDTH, IMG_HEIGHT)\n",
    ")\n",
    "\n",
    "# Set the amount of steps for training, validation, and testing data\n",
    "# based on the batch size\n",
    "steps_train = train_gen.n//train_gen.batch_size\n",
    "steps_valid = valid_gen.n//valid_gen.batch_size\n",
    "steps_test = test_gen.n//test_gen.batch_size"
   ]
  },
  {
   "cell_type": "markdown",
   "metadata": {},
   "source": [
    "## BASELINE MODEL\n",
    "The following model is a very simple convolutional neural network. It is not\n",
    "very accurate."
   ]
  },
  {
   "cell_type": "code",
   "execution_count": null,
   "metadata": {},
   "outputs": [],
   "source": [
    "# number of epochs for the baseline model\n",
    "n_epochs = 3\n",
    "\n",
    "sequential_model = tf.keras.Sequential([\n",
    "  tf.keras.layers.Rescaling(1./255),\n",
    "  tf.keras.layers.Conv2D(32, 3, activation='relu'),\n",
    "  tf.keras.layers.MaxPooling2D(),\n",
    "  tf.keras.layers.Conv2D(32, 3, activation='relu'),\n",
    "  tf.keras.layers.MaxPooling2D(),\n",
    "  tf.keras.layers.Conv2D(32, 3, activation='relu'),\n",
    "  tf.keras.layers.MaxPooling2D(),\n",
    "  tf.keras.layers.Flatten(),\n",
    "  tf.keras.layers.Dense(128, activation='relu'),\n",
    "  tf.keras.layers.Dense(NUM_ARTISTS - 1)\n",
    "])\n",
    "\n",
    "# compile model\n",
    "sequential_model.compile(\n",
    "  optimizer='adam',\n",
    "  loss=tf.losses.CategoricalCrossentropy(from_logits=True),\n",
    "  metrics=['accuracy']\n",
    ")\n"
   ]
  },
  {
   "cell_type": "code",
   "execution_count": null,
   "metadata": {},
   "outputs": [],
   "source": [
    "# fit model\n",
    "# FITTING THE MODEL\n",
    "sequential_model.fit_generator(\n",
    "    generator = train_gen,\n",
    "    steps_per_epoch=steps_train,\n",
    "    validation_data = valid_gen,\n",
    "    validation_steps = steps_valid,\n",
    "    verbose=1,\n",
    "    epochs=n_epochs\n",
    ")\n"
   ]
  },
  {
   "cell_type": "markdown",
   "metadata": {},
   "source": [
    "## Clay's Model\n",
    "The following model was designed by Clay Kaufmann. It uses Inception V3 as a\n",
    "base line, and makes modifications from there."
   ]
  },
  {
   "cell_type": "markdown",
   "metadata": {},
   "source": [
    "### Hyperparameter Block\n",
    "Set different hyperparameters for the model with the following block."
   ]
  },
  {
   "cell_type": "code",
   "execution_count": 9,
   "metadata": {},
   "outputs": [],
   "source": [
    "\"\"\"\n",
    "Hyperparameters here:\n",
    "\"\"\"\n",
    "N_EPOCHS = 10\n",
    "LEARNING_RATE = 0.001 # 0.001 is the default for Adam set by TensorFlow\n",
    "OPTIMIZER = tf.optimizers.Adam(learning_rate=LEARNING_RATE)\n",
    "LOSS_FUNCTION = tf.losses.CategoricalCrossentropy(from_logits=False)"
   ]
  },
  {
   "cell_type": "code",
   "execution_count": 10,
   "metadata": {},
   "outputs": [
    {
     "name": "stdout",
     "output_type": "stream",
     "text": [
      "Model: \"sequential_1\"\n",
      "_________________________________________________________________\n",
      "Layer (type)                 Output Shape              Param #   \n",
      "=================================================================\n",
      "inception_v3 (Functional)    (None, 2048)              21802784  \n",
      "_________________________________________________________________\n",
      "flatten_1 (Flatten)          (None, 2048)              0         \n",
      "_________________________________________________________________\n",
      "batch_normalization_190 (Bat (None, 2048)              8192      \n",
      "_________________________________________________________________\n",
      "dense_4 (Dense)              (None, 1024)              2098176   \n",
      "_________________________________________________________________\n",
      "dropout_2 (Dropout)          (None, 1024)              0         \n",
      "_________________________________________________________________\n",
      "batch_normalization_191 (Bat (None, 1024)              4096      \n",
      "_________________________________________________________________\n",
      "dense_5 (Dense)              (None, 512)               524800    \n",
      "_________________________________________________________________\n",
      "dense_6 (Dense)              (None, 32)                16416     \n",
      "_________________________________________________________________\n",
      "dropout_3 (Dropout)          (None, 32)                0         \n",
      "_________________________________________________________________\n",
      "dense_7 (Dense)              (None, 9)                 297       \n",
      "=================================================================\n",
      "Total params: 24,454,761\n",
      "Trainable params: 2,645,833\n",
      "Non-trainable params: 21,808,928\n",
      "_________________________________________________________________\n"
     ]
    }
   ],
   "source": [
    "# set the input for VGG\n",
    "inp = Input(shape=(IMG_HEIGHT,IMG_WIDTH,3))\n",
    "\n",
    "# load model\n",
    "base_model = InceptionV3(include_top=False, input_tensor=inp, pooling='max', weights='imagenet')\n",
    "\n",
    "# set base model to not be trainable\n",
    "base_model.trainable = False\n",
    "\n",
    "final_model = tf.keras.Sequential()\n",
    "final_model.add(base_model)\n",
    "\n",
    "final_model.add(K.layers.Flatten())\n",
    "final_model.add(K.layers.BatchNormalization())\n",
    "final_model.add(Dense(1024, activation='relu'))\n",
    "final_model.add(K.layers.Dropout(0.6))\n",
    "final_model.add(K.layers.BatchNormalization())\n",
    "final_model.add(Dense(512, activation='relu'))\n",
    "final_model.add(Dense(32, activation='relu'))\n",
    "final_model.add(K.layers.Dropout(0.6))\n",
    "final_model.add(Dense(NUM_ARTISTS - 1, activation='softmax'))\n",
    "\n",
    "final_model.summary()\n",
    "\n",
    "# compile model\n",
    "final_model.compile(\n",
    "  optimizer=OPTIMIZER,\n",
    "  loss=LOSS_FUNCTION,\n",
    "  metrics=['accuracy']\n",
    ")"
   ]
  },
  {
   "cell_type": "code",
   "execution_count": 11,
   "metadata": {},
   "outputs": [
    {
     "name": "stdout",
     "output_type": "stream",
     "text": [
      "Epoch 1/10\n",
      "33/33 [==============================] - 151s 4s/step - loss: 2.1564 - accuracy: 0.2703 - val_loss: 2.0257 - val_accuracy: 0.2344\n",
      "Epoch 2/10\n",
      "33/33 [==============================] - 159s 5s/step - loss: 1.9116 - accuracy: 0.3284 - val_loss: 1.9409 - val_accuracy: 0.3781\n",
      "Epoch 3/10\n",
      "33/33 [==============================] - 165s 5s/step - loss: 1.8390 - accuracy: 0.3603 - val_loss: 1.9002 - val_accuracy: 0.2969\n",
      "Epoch 4/10\n",
      "33/33 [==============================] - 167s 5s/step - loss: 1.7387 - accuracy: 0.3936 - val_loss: 1.7032 - val_accuracy: 0.4437\n",
      "Epoch 5/10\n",
      "33/33 [==============================] - 173s 5s/step - loss: 1.7291 - accuracy: 0.4041 - val_loss: 1.6988 - val_accuracy: 0.4844\n",
      "Epoch 6/10\n",
      "33/33 [==============================] - 179s 5s/step - loss: 1.7081 - accuracy: 0.3955 - val_loss: 1.5650 - val_accuracy: 0.5312\n",
      "Epoch 7/10\n",
      "33/33 [==============================] - 162s 5s/step - loss: 1.6326 - accuracy: 0.4398 - val_loss: 1.4979 - val_accuracy: 0.5469\n",
      "Epoch 8/10\n",
      "33/33 [==============================] - 163s 5s/step - loss: 1.6290 - accuracy: 0.4150 - val_loss: 1.3722 - val_accuracy: 0.5562\n",
      "Epoch 9/10\n",
      "33/33 [==============================] - 163s 5s/step - loss: 1.6032 - accuracy: 0.4250 - val_loss: 1.2863 - val_accuracy: 0.5969\n",
      "Epoch 10/10\n",
      "33/33 [==============================] - 164s 5s/step - loss: 1.5568 - accuracy: 0.4418 - val_loss: 1.3381 - val_accuracy: 0.5813\n"
     ]
    },
    {
     "data": {
      "text/plain": [
       "<keras.callbacks.History at 0x7fb178ccf700>"
      ]
     },
     "execution_count": 11,
     "metadata": {},
     "output_type": "execute_result"
    }
   ],
   "source": [
    "# Fit the model\n",
    "final_model.fit_generator(\n",
    "    generator = train_gen,\n",
    "    steps_per_epoch=steps_train,\n",
    "    validation_data = valid_gen,\n",
    "    validation_steps = steps_valid,\n",
    "    verbose=1,\n",
    "    epochs=N_EPOCHS\n",
    ")"
   ]
  }
 ],
 "metadata": {
  "interpreter": {
   "hash": "3067ead486e059ec00ffe7555bdb889e6e264a24dc711bf108106cc7baee8d5d"
  },
  "kernelspec": {
   "display_name": "Python 3.8.5 64-bit (conda)",
   "language": "python",
   "name": "python3"
  },
  "language_info": {
   "codemirror_mode": {
    "name": "ipython",
    "version": 3
   },
   "file_extension": ".py",
   "mimetype": "text/x-python",
   "name": "python",
   "nbconvert_exporter": "python",
   "pygments_lexer": "ipython3",
   "version": "3.8.5"
  },
  "orig_nbformat": 4
 },
 "nbformat": 4,
 "nbformat_minor": 2
}
